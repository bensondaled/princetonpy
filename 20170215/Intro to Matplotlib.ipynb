{
 "cells": [
  {
   "cell_type": "code",
   "execution_count": 2,
   "metadata": {},
   "outputs": [],
   "source": [
    "pl.style.use('default')"
   ]
  },
  {
   "cell_type": "markdown",
   "metadata": {},
   "source": [
    "## Plotting in python with `matplotlib`\n",
    "\n",
    "There are a number of excellent plotting libraries for Python, including `matplotlib`, `seaborn`, `plotly`, `bokeh`, `mayavi`, and more. Some of these packages use each other, and they each specialize in some particular component of plotting (for example, interactive plots for websites).\n",
    "\n",
    "That said, `matplotlib` is by far the most mature, popular, and recommended plotting library for the majority of your needs. It empowers you to produce just about any data visualization you can imagine, and you can use it to produce publication-quality figures. To get inspired, I encourage you to scroll through <a href=\"http://matplotlib.org/gallery.html\"> these examples</a> that demonstrate the extent of `matplotlib`'s capabilities.\n",
    "\n",
    "In this lesson, we will learn `matplotlib` basics from the ground up, giving you an introduction on how to use this package to make figures. For this tutorial, I will assume that you are already familiar with some Python, including the basics of the numerical computing package NumPy.\n",
    "\n",
    "\\* A note about versions: `matplotlib` recently released a major update that dramatically improved many parts of the package. I suggest you update to `matplotlib 2.0` (in anaconda environments, this can be done using `conda update matplotlib`)."
   ]
  },
  {
   "cell_type": "markdown",
   "metadata": {},
   "source": [
    "---\n",
    "\n",
    "### A quick note on data formats\n",
    "\n",
    "Because this session focuses on plotting data, I will not extensively cover the highly related topic of data formats. \n",
    "\n",
    "For this reason, the example data I use will consist of very simple `numpy` arrays: the most common way to store scientific data in Python.\n",
    "\n",
    "Most of your data, whether it is stored in CSV files, MATLAB files, image files (tif, etc.), json, HDF5, or anything else, can easily be imported into Python and specifically into `numpy` arrays.\n",
    "\n",
    "For now, let's generate some data to play with:"
   ]
  },
  {
   "cell_type": "code",
   "execution_count": 3,
   "metadata": {
    "collapsed": true
   },
   "outputs": [],
   "source": [
    "import numpy as np\n",
    "\n",
    "x = np.arange(0, 10, 0.05) # uniform array of real values from 0 to 10\n",
    "y = np.sin(6*x) + np.sin(3*(x-0.5)) # a sum of two sinusoids, as an example dataset"
   ]
  },
  {
   "cell_type": "markdown",
   "metadata": {},
   "source": [
    "---\n",
    "\n",
    "### Basic plotting\n",
    "\n",
    "To begin, let's import the module that contains most of our plotting needs: `pyplot`.\n",
    "\n",
    "*Note: it is very common for people to import pyplot as `plt`; my use of `pl` is just a personal preference.*"
   ]
  },
  {
   "cell_type": "code",
   "execution_count": 4,
   "metadata": {},
   "outputs": [],
   "source": [
    "import matplotlib.pyplot as pl"
   ]
  },
  {
   "cell_type": "markdown",
   "metadata": {},
   "source": [
    "Basic plotting can be done using commands available directly in the `pyplot` namespace. This is similar to MATLAB-style plotting commands."
   ]
  },
  {
   "cell_type": "code",
   "execution_count": 6,
   "metadata": {
    "scrolled": true
   },
   "outputs": [
    {
     "data": {
      "text/plain": [
       "[<matplotlib.lines.Line2D at 0x11f041978>]"
      ]
     },
     "execution_count": 6,
     "metadata": {},
     "output_type": "execute_result"
    }
   ],
   "source": [
    "# plot the data\n",
    "pl.plot(x, y)"
   ]
  },
  {
   "cell_type": "code",
   "execution_count": 7,
   "metadata": {},
   "outputs": [
    {
     "data": {
      "text/plain": [
       "<matplotlib.text.Text at 0x11f01dfd0>"
      ]
     },
     "execution_count": 7,
     "metadata": {},
     "output_type": "execute_result"
    }
   ],
   "source": [
    "# set axis labels and title\n",
    "pl.xlabel('Time (sec.)')\n",
    "pl.ylabel('Amplitude')\n",
    "pl.title('My Fake Data')"
   ]
  },
  {
   "cell_type": "code",
   "execution_count": 8,
   "metadata": {},
   "outputs": [
    {
     "data": {
      "text/plain": [
       "[<matplotlib.lines.Line2D at 0x11f05e208>]"
      ]
     },
     "execution_count": 8,
     "metadata": {},
     "output_type": "execute_result"
    }
   ],
   "source": [
    "# plot additional lines\n",
    "pl.plot(x+.5, y*2)\n",
    "pl.plot(x+1., y/3)"
   ]
  },
  {
   "cell_type": "code",
   "execution_count": 8,
   "metadata": {
    "collapsed": true
   },
   "outputs": [],
   "source": [
    "# clear the current figure\n",
    "pl.clf()"
   ]
  },
  {
   "cell_type": "markdown",
   "metadata": {},
   "source": [
    "For simple formatting options, this shortcut exists:"
   ]
  },
  {
   "cell_type": "code",
   "execution_count": 9,
   "metadata": {},
   "outputs": [
    {
     "data": {
      "text/plain": [
       "[<matplotlib.lines.Line2D at 0x11f2871d0>]"
      ]
     },
     "execution_count": 9,
     "metadata": {},
     "output_type": "execute_result"
    }
   ],
   "source": [
    "pl.plot(x, y, 'bo-')"
   ]
  },
  {
   "cell_type": "code",
   "execution_count": 10,
   "metadata": {},
   "outputs": [
    {
     "data": {
      "text/plain": [
       "[<matplotlib.lines.Line2D at 0x11f9a9ef0>]"
      ]
     },
     "execution_count": 10,
     "metadata": {},
     "output_type": "execute_result"
    }
   ],
   "source": [
    "pl.plot(x, -y, 'rx--')"
   ]
  },
  {
   "cell_type": "markdown",
   "metadata": {},
   "source": [
    "For more complex formatting:"
   ]
  },
  {
   "cell_type": "code",
   "execution_count": 11,
   "metadata": {},
   "outputs": [
    {
     "data": {
      "text/plain": [
       "[<matplotlib.lines.Line2D at 0x11fe6a3c8>]"
      ]
     },
     "execution_count": 11,
     "metadata": {},
     "output_type": "execute_result"
    }
   ],
   "source": [
    "pl.clf()\n",
    "\n",
    "pl.plot(x, y, \n",
    "        color='slateblue', \n",
    "        marker='p', \n",
    "        linewidth=3, \n",
    "        markersize=10,\n",
    "        markeredgewidth=2, \n",
    "        markeredgecolor='black',\n",
    "        markerfacecolor='moccasin',\n",
    "        linestyle='dashdot')"
   ]
  },
  {
   "cell_type": "markdown",
   "metadata": {},
   "source": [
    "A large number of plot styles are available:"
   ]
  },
  {
   "cell_type": "code",
   "execution_count": 12,
   "metadata": {},
   "outputs": [
    {
     "data": {
      "text/plain": [
       "<matplotlib.collections.PathCollection at 0x11eb680f0>"
      ]
     },
     "execution_count": 12,
     "metadata": {},
     "output_type": "execute_result"
    }
   ],
   "source": [
    "# scatter plot\n",
    "\n",
    "pl.clf()\n",
    "\n",
    "pl.scatter(x, y, s=(y+5)**2, c=x)\n",
    "\n",
    "# s specifies marker sizes for each point\n",
    "# c specifies marker colors for each point"
   ]
  },
  {
   "cell_type": "code",
   "execution_count": 12,
   "metadata": {},
   "outputs": [
    {
     "data": {
      "text/plain": [
       "([<matplotlib.patches.Wedge at 0x103386ba8>,\n",
       "  <matplotlib.patches.Wedge at 0x10338cdd8>,\n",
       "  <matplotlib.patches.Wedge at 0x103392fd0>,\n",
       "  <matplotlib.patches.Wedge at 0x1033a0208>],\n",
       " [<matplotlib.text.Text at 0x10338c400>,\n",
       "  <matplotlib.text.Text at 0x1033925f8>,\n",
       "  <matplotlib.text.Text at 0x10339a7f0>,\n",
       "  <matplotlib.text.Text at 0x1033a09e8>],\n",
       " [<matplotlib.text.Text at 0x10338c898>,\n",
       "  <matplotlib.text.Text at 0x103392a90>,\n",
       "  <matplotlib.text.Text at 0x10339ac88>,\n",
       "  <matplotlib.text.Text at 0x1033a0e80>])"
      ]
     },
     "execution_count": 12,
     "metadata": {},
     "output_type": "execute_result"
    }
   ],
   "source": [
    "# pie chart\n",
    "\n",
    "pl.clf()\n",
    "\n",
    "slices = [10, 20, 30, 40]\n",
    "colors = ['gray', 'coral', 'goldenrod', 'indigo']\n",
    "explode = [.05, .05, .01, .08]\n",
    "\n",
    "pl.pie(slices, colors=colors, explode=explode, autopct='%0.0f')"
   ]
  },
  {
   "cell_type": "code",
   "execution_count": 13,
   "metadata": {},
   "outputs": [
    {
     "data": {
      "text/plain": [
       "(array([ 19.,   9.,   7.,   8.,   8.,  36.,  30.,  31.,   8.,   8.,  11.,\n",
       "         25.]),\n",
       " array([-1.79752934, -1.50469142, -1.2118535 , -0.91901558, -0.62617766,\n",
       "        -0.33333974, -0.04050181,  0.25233611,  0.54517403,  0.83801195,\n",
       "         1.13084987,  1.42368779,  1.71652571]),\n",
       " <a list of 12 Patch objects>)"
      ]
     },
     "execution_count": 13,
     "metadata": {},
     "output_type": "execute_result"
    }
   ],
   "source": [
    "# histogram\n",
    "\n",
    "pl.clf()\n",
    "\n",
    "pl.hist(y, bins=12, edgecolor='k')"
   ]
  },
  {
   "cell_type": "code",
   "execution_count": 14,
   "metadata": {},
   "outputs": [
    {
     "data": {
      "text/plain": [
       "<Container object of 4 artists>"
      ]
     },
     "execution_count": 14,
     "metadata": {},
     "output_type": "execute_result"
    }
   ],
   "source": [
    "# bar chart\n",
    "\n",
    "pl.clf()\n",
    "\n",
    "xs = np.array([0, 1, 2, 3])\n",
    "y1 = [.5, .6, .2, .3]\n",
    "y2 = [.1, .2, .4, .35]\n",
    "y3 = [.3, .1, .6, .2]\n",
    "\n",
    "pl.bar(xs, y1, width=0.2, color='powderblue')\n",
    "pl.bar(xs+.2, y2, width=0.2, color='cadetblue')\n",
    "pl.bar(xs+.4, y3, width=0.2, color='seagreen')"
   ]
  },
  {
   "cell_type": "code",
   "execution_count": 16,
   "metadata": {},
   "outputs": [
    {
     "data": {
      "text/plain": [
       "{'boxes': [<matplotlib.lines.Line2D at 0x11afb7048>,\n",
       "  <matplotlib.lines.Line2D at 0x11aff8470>,\n",
       "  <matplotlib.lines.Line2D at 0x11af83898>,\n",
       "  <matplotlib.lines.Line2D at 0x1033ea588>],\n",
       " 'caps': [<matplotlib.lines.Line2D at 0x11afbca90>,\n",
       "  <matplotlib.lines.Line2D at 0x11afbcc18>,\n",
       "  <matplotlib.lines.Line2D at 0x11affed30>,\n",
       "  <matplotlib.lines.Line2D at 0x11b004c18>,\n",
       "  <matplotlib.lines.Line2D at 0x11fab30b8>,\n",
       "  <matplotlib.lines.Line2D at 0x11edd0390>,\n",
       "  <matplotlib.lines.Line2D at 0x11b013898>,\n",
       "  <matplotlib.lines.Line2D at 0x11b013fd0>],\n",
       " 'fliers': [<matplotlib.lines.Line2D at 0x11aff3c88>,\n",
       "  <matplotlib.lines.Line2D at 0x1033f02e8>,\n",
       "  <matplotlib.lines.Line2D at 0x11f32c6d8>,\n",
       "  <matplotlib.lines.Line2D at 0x11b019a90>],\n",
       " 'means': [],\n",
       " 'medians': [<matplotlib.lines.Line2D at 0x11aff3470>,\n",
       "  <matplotlib.lines.Line2D at 0x11b004da0>,\n",
       "  <matplotlib.lines.Line2D at 0x1033d1748>,\n",
       "  <matplotlib.lines.Line2D at 0x11b019278>],\n",
       " 'whiskers': [<matplotlib.lines.Line2D at 0x11afb7a20>,\n",
       "  <matplotlib.lines.Line2D at 0x11afb7ba8>,\n",
       "  <matplotlib.lines.Line2D at 0x11aff8cc0>,\n",
       "  <matplotlib.lines.Line2D at 0x11affeba8>,\n",
       "  <matplotlib.lines.Line2D at 0x11f33d860>,\n",
       "  <matplotlib.lines.Line2D at 0x11f33d240>,\n",
       "  <matplotlib.lines.Line2D at 0x11b008828>,\n",
       "  <matplotlib.lines.Line2D at 0x11b008f60>]}"
      ]
     },
     "execution_count": 16,
     "metadata": {},
     "output_type": "execute_result"
    }
   ],
   "source": [
    "# box plot\n",
    "\n",
    "pl.clf()\n",
    "\n",
    "group_1 = np.random.normal(0, 1, size=5000)\n",
    "group_2 = np.random.normal(2, 1, size=5000)\n",
    "group_3 = np.random.normal(0, 4, size=5000)\n",
    "group_4 = np.random.normal(-1, 3, size=5000)\n",
    "\n",
    "pl.boxplot([group_1, group_2, group_3, group_4])"
   ]
  },
  {
   "cell_type": "code",
   "execution_count": 15,
   "metadata": {},
   "outputs": [
    {
     "data": {
      "text/plain": [
       "<Container object of 3 artists>"
      ]
     },
     "execution_count": 15,
     "metadata": {},
     "output_type": "execute_result"
    }
   ],
   "source": [
    "# error bars\n",
    "\n",
    "pl.clf()\n",
    "\n",
    "x1 = x[:100]\n",
    "y1 = y[:100]\n",
    "\n",
    "pl.errorbar(x1, y1, yerr=x1/20, xerr=y1/10, color='k', marker='o', ecolor='goldenrod')"
   ]
  },
  {
   "cell_type": "code",
   "execution_count": 16,
   "metadata": {},
   "outputs": [
    {
     "data": {
      "text/plain": [
       "<matplotlib.quiver.Quiver at 0x11ec97b00>"
      ]
     },
     "execution_count": 16,
     "metadata": {},
     "output_type": "execute_result"
    }
   ],
   "source": [
    "# quiver plot\n",
    "\n",
    "pl.clf()\n",
    "\n",
    "xpos, ypos = np.meshgrid(np.arange(0, np.pi, .3), np.arange(0, 2*np.pi, .3))\n",
    "x_comp = np.cos(xpos)\n",
    "y_comp = np.sin(ypos)\n",
    "\n",
    "pl.quiver(xpos, ypos, x_comp, y_comp)"
   ]
  },
  {
   "cell_type": "code",
   "execution_count": 17,
   "metadata": {},
   "outputs": [
    {
     "data": {
      "text/plain": [
       "<matplotlib.collections.PolyCollection at 0x11f6fbb38>"
      ]
     },
     "execution_count": 17,
     "metadata": {},
     "output_type": "execute_result"
    }
   ],
   "source": [
    "# fill between\n",
    "\n",
    "pl.clf()\n",
    "\n",
    "pl.plot(x, y, color='k', linewidth=3)\n",
    "\n",
    "yerror = np.random.uniform(.6, .9, size=y.shape)\n",
    "\n",
    "pl.fill_between(x, y+yerror, y-yerror, color='powderblue', alpha=.8)"
   ]
  },
  {
   "cell_type": "markdown",
   "metadata": {},
   "source": [
    "Now that we've seen some of the plot styles available, let's consider how we would customize a given plot, using our original example as a template."
   ]
  },
  {
   "cell_type": "code",
   "execution_count": 18,
   "metadata": {},
   "outputs": [
    {
     "data": {
      "text/plain": [
       "<matplotlib.text.Text at 0x11e116eb8>"
      ]
     },
     "execution_count": 18,
     "metadata": {},
     "output_type": "execute_result"
    }
   ],
   "source": [
    "pl.clf()\n",
    "\n",
    "pl.plot(x, y, color='grey')\n",
    "\n",
    "pl.xlabel('Time (sec.)', fontsize='large', weight='bold')\n",
    "pl.ylabel('Amplitude', fontsize='large', style='italic')\n",
    "pl.title('My Fake Data', fontsize='x-large')"
   ]
  },
  {
   "cell_type": "code",
   "execution_count": 21,
   "metadata": {},
   "outputs": [
    {
     "data": {
      "text/plain": [
       "(-0.5, 1.8)"
      ]
     },
     "execution_count": 21,
     "metadata": {},
     "output_type": "execute_result"
    }
   ],
   "source": [
    "pl.xlim(0,4)\n",
    "\n",
    "pl.ylim(-.5,1.8)"
   ]
  },
  {
   "cell_type": "code",
   "execution_count": 22,
   "metadata": {},
   "outputs": [
    {
     "data": {
      "text/plain": [
       "[0, 1.6, -0.5, 1.6]"
      ]
     },
     "execution_count": 22,
     "metadata": {},
     "output_type": "execute_result"
    }
   ],
   "source": [
    "pl.axis([0, 1.6, -0.5, 1.6])"
   ]
  },
  {
   "cell_type": "code",
   "execution_count": 23,
   "metadata": {},
   "outputs": [
    {
     "data": {
      "text/plain": [
       "([<matplotlib.axis.YTick at 0x11e23a438>,\n",
       "  <matplotlib.axis.YTick at 0x11e22afd0>,\n",
       "  <matplotlib.axis.YTick at 0x11e279400>],\n",
       " <a list of 3 Text yticklabel objects>)"
      ]
     },
     "execution_count": 23,
     "metadata": {},
     "output_type": "execute_result"
    }
   ],
   "source": [
    "pl.xticks( np.arange(0,4,0.2), rotation=90 )\n",
    "\n",
    "pl.yticks( [0, .5, 1.], ['low','medium','high'], rotation=30 )"
   ]
  },
  {
   "cell_type": "code",
   "execution_count": 24,
   "metadata": {},
   "outputs": [],
   "source": [
    "pl.tight_layout() # squeeze everything into the figure in a non-overlapping way"
   ]
  },
  {
   "cell_type": "markdown",
   "metadata": {},
   "source": [
    "What if you want to label each line, and show the labels in a legend?"
   ]
  },
  {
   "cell_type": "code",
   "execution_count": 30,
   "metadata": {},
   "outputs": [
    {
     "data": {
      "text/plain": [
       "<matplotlib.legend.Legend at 0x11edfde10>"
      ]
     },
     "execution_count": 30,
     "metadata": {},
     "output_type": "execute_result"
    }
   ],
   "source": [
    "pl.clf()\n",
    "\n",
    "pl.plot(x, y, color='black', label='my black data')\n",
    "pl.plot(x, y/2, color='cyan', label='my cyan data')\n",
    "pl.plot(x, -y, color='pink', label='my pink data')\n",
    "\n",
    "pl.legend()"
   ]
  },
  {
   "cell_type": "markdown",
   "metadata": {},
   "source": [
    "The previous example showed one way to plots multiple lines of data. But what if you have a large amount of structured data to plot?\n",
    "\n",
    "One option would be to plot the individual lines using a loop, and that can sometimes be the best option. But another option exists:"
   ]
  },
  {
   "cell_type": "code",
   "execution_count": 26,
   "metadata": {},
   "outputs": [
    {
     "name": "stdout",
     "output_type": "stream",
     "text": [
      "Original shape: (4, 200)\n",
      "New shape: (200, 4)\n"
     ]
    },
    {
     "data": {
      "text/plain": [
       "[<matplotlib.lines.Line2D at 0x11e283b38>,\n",
       " <matplotlib.lines.Line2D at 0x11e2839e8>,\n",
       " <matplotlib.lines.Line2D at 0x11e28c4e0>,\n",
       " <matplotlib.lines.Line2D at 0x11e22f7b8>]"
      ]
     },
     "execution_count": 26,
     "metadata": {},
     "output_type": "execute_result"
    }
   ],
   "source": [
    "pl.clf()\n",
    "\n",
    "# create a matrix with multiple transformations of y\n",
    "y_many = np.array([ y,\n",
    "                    y+2,\n",
    "                    y*2,\n",
    "                    -y ])\n",
    "\n",
    "# the way we created it, the default shape has timepoints along the columns\n",
    "print('Original shape:', y_many.shape)\n",
    "\n",
    "# matplotlib wants a matrix where timepoints are in the rows; i.e. for every entry in x, there is a *row* in y\n",
    "# to achieve this, we can simply transpose the matrix\n",
    "y_many = y_many.T\n",
    "print('New shape:', y_many.shape)\n",
    "\n",
    "# we can now plot multiple lines at once\n",
    "pl.plot(x, y_many)"
   ]
  },
  {
   "cell_type": "markdown",
   "metadata": {},
   "source": [
    "Speaking of plotting multiple data lines at once: sometimes you want to plot multiple lines of data on top of one another, but they have different magnitudes of values. Later we will learn a more advanced view of `matplotlib` that allows this to arbitrary levels of complexity. \n",
    "\n",
    "But, there is a simple shortcut for the case of plotting data with 2 distinct y axes:"
   ]
  },
  {
   "cell_type": "code",
   "execution_count": 27,
   "metadata": {},
   "outputs": [],
   "source": [
    "pl.clf()\n",
    "\n",
    "pl.plot(x, y, color='violet')\n",
    "pl.ylabel('My Original Data', color='violet')\n",
    "\n",
    "pl.twinx()\n",
    "\n",
    "pl.plot(x, -y*1000, color='red')\n",
    "pl.ylabel('My Larger Data', color='red')\n",
    "\n",
    "pl.tight_layout()"
   ]
  },
  {
   "cell_type": "markdown",
   "metadata": {},
   "source": [
    "### Saving a figure\n",
    "\n",
    "`matplotlib` is able to save plots to many different image formats. To save a figure:"
   ]
  },
  {
   "cell_type": "code",
   "execution_count": 28,
   "metadata": {
    "collapsed": true
   },
   "outputs": [],
   "source": [
    "pl.savefig('my_figure.png')\n",
    "\n",
    "pl.close()"
   ]
  },
  {
   "cell_type": "markdown",
   "metadata": {},
   "source": [
    "Available formats include png, jpg, pdf, eps, svg, ps (the latter 4 are compatible with vector editing software such as Adobe Illustrator)."
   ]
  },
  {
   "cell_type": "markdown",
   "metadata": {},
   "source": [
    "### Images"
   ]
  },
  {
   "cell_type": "markdown",
   "metadata": {},
   "source": [
    "There's lots more you can do with data plotting, but let's now take a brief look at the image functionality available in `matplotlib`.\n",
    "\n",
    "Recall that an image is no more than a matrix of values. `matplotlib` offers a variety of ways to visualize matrices, and thus to show images."
   ]
  },
  {
   "cell_type": "code",
   "execution_count": 31,
   "metadata": {},
   "outputs": [
    {
     "data": {
      "text/plain": [
       "<matplotlib.colorbar.Colorbar at 0x1246f3cf8>"
      ]
     },
     "execution_count": 31,
     "metadata": {},
     "output_type": "execute_result"
    }
   ],
   "source": [
    "apple = pl.imread('apple.png')\n",
    "\n",
    "pl.imshow(apple)\n",
    "pl.colorbar()"
   ]
  },
  {
   "cell_type": "markdown",
   "metadata": {},
   "source": [
    "When an image has only one channel, it is often assumed to be greyscale. In `matplotlib`, the default behaviour is to show the image with a standard colormap, which maps values to a range of colours.\n",
    "\n",
    "To see all of `matplotlib`'s colormaps, see <a href=\"http://matplotlib.org/examples/color/colormaps_reference.html\">this page.</a>"
   ]
  },
  {
   "cell_type": "code",
   "execution_count": 32,
   "metadata": {},
   "outputs": [
    {
     "data": {
      "text/plain": [
       "<matplotlib.colorbar.Colorbar at 0x1246772b0>"
      ]
     },
     "execution_count": 32,
     "metadata": {},
     "output_type": "execute_result"
    }
   ],
   "source": [
    "pl.clf()\n",
    "\n",
    "pl.imshow(apple, cmap=pl.cm.Greys_r)\n",
    "pl.colorbar()"
   ]
  },
  {
   "cell_type": "code",
   "execution_count": 33,
   "metadata": {},
   "outputs": [
    {
     "data": {
      "text/plain": [
       "<matplotlib.colorbar.Colorbar at 0x11e476390>"
      ]
     },
     "execution_count": 33,
     "metadata": {},
     "output_type": "execute_result"
    }
   ],
   "source": [
    "pl.clf()\n",
    "\n",
    "pl.imshow(apple, cmap=pl.cm.jet)\n",
    "pl.colorbar()"
   ]
  },
  {
   "cell_type": "code",
   "execution_count": 34,
   "metadata": {},
   "outputs": [
    {
     "data": {
      "text/plain": [
       "<matplotlib.colorbar.Colorbar at 0x12476fba8>"
      ]
     },
     "execution_count": 34,
     "metadata": {},
     "output_type": "execute_result"
    }
   ],
   "source": [
    "pl.clf()\n",
    "\n",
    "pl.imshow(apple, cmap=pl.cm.Reds_r)\n",
    "pl.colorbar()"
   ]
  },
  {
   "cell_type": "code",
   "execution_count": 35,
   "metadata": {},
   "outputs": [
    {
     "data": {
      "text/plain": [
       "<matplotlib.colorbar.Colorbar at 0x12b0b07f0>"
      ]
     },
     "execution_count": 35,
     "metadata": {},
     "output_type": "execute_result"
    }
   ],
   "source": [
    "pl.clf()\n",
    "\n",
    "pl.imshow(apple, cmap=pl.cm.Greens_r)\n",
    "pl.colorbar()"
   ]
  },
  {
   "cell_type": "markdown",
   "metadata": {},
   "source": [
    "By default, `matplotlib` will map the full range of values in your image matrix to a colormap. However, you can easily specify any range of your choosing to be mapped. For example, here we will inspect the minimum and maximum value of our image, then tell `imshow` to map only a small range thereof onto the colormap."
   ]
  },
  {
   "cell_type": "code",
   "execution_count": 36,
   "metadata": {},
   "outputs": [
    {
     "name": "stdout",
     "output_type": "stream",
     "text": [
      "0.0\n",
      "1.0\n"
     ]
    }
   ],
   "source": [
    "print( apple.min() )\n",
    "print( apple.max() )"
   ]
  },
  {
   "cell_type": "code",
   "execution_count": 37,
   "metadata": {},
   "outputs": [
    {
     "data": {
      "text/plain": [
       "<matplotlib.colorbar.Colorbar at 0x12b333f98>"
      ]
     },
     "execution_count": 37,
     "metadata": {},
     "output_type": "execute_result"
    }
   ],
   "source": [
    "pl.clf()\n",
    "\n",
    "pl.imshow(apple, cmap=pl.cm.Greens_r, vmin=0.85, vmax=0.9)\n",
    "pl.colorbar()"
   ]
  },
  {
   "cell_type": "markdown",
   "metadata": {},
   "source": [
    "You can use `imshow` to display any data stored in 2D matrices. But, that function was made specifically for images. There is another function, `pcolormesh`, intended specifically for generating pseudocolour plots. Here we will generate some fake data and display it using a pseudocolour plot."
   ]
  },
  {
   "cell_type": "code",
   "execution_count": 38,
   "metadata": {},
   "outputs": [
    {
     "data": {
      "text/plain": [
       "<matplotlib.colorbar.Colorbar at 0x13fb52390>"
      ]
     },
     "execution_count": 38,
     "metadata": {},
     "output_type": "execute_result"
    }
   ],
   "source": [
    "pl.clf()\n",
    "\n",
    "# generate some fake data in a 2D matrix, where:\n",
    "# the x coordinate will represent time\n",
    "# the y coordinate will represent individual measured subjects (ex. cells)\n",
    "# the value of each entry will represent the magnitude of the signal (ex. fluorescence)\n",
    "impulse = np.random.choice([0,1], size=[50,1000], p=[.98,.02])\n",
    "kernel = np.exp(-5*np.arange(0,1,0.05))\n",
    "data = np.array([np.convolve(i,kernel) for i in impulse])\n",
    "\n",
    "# show the data using a pseudocolour plot\n",
    "pl.pcolormesh(data)\n",
    "pl.xlabel('Time (secs)')\n",
    "pl.ylabel('Cells')\n",
    "pl.colorbar(label='Fluorescence')"
   ]
  },
  {
   "cell_type": "markdown",
   "metadata": {},
   "source": [
    "---\n",
    "\n",
    "On the topic of colours: `matplotlib` offers a variety of ways to specify colours.\n",
    "\n",
    "First, there is a large set of <a href=\"http://matplotlib.org/examples/color/named_colors.html\">named colours available</a>.\n",
    "\n",
    "More generally, you can specify any colour by supplying a list of RGBA (red, blue, green, alpha=transparency) values ranging from 0-1, such as (0.1, 0.5, 0.2, 1).\n",
    "\n",
    "You can also specify colours using hex values, such as '#AB4E12'."
   ]
  },
  {
   "cell_type": "code",
   "execution_count": 39,
   "metadata": {},
   "outputs": [
    {
     "data": {
      "text/plain": [
       "[<matplotlib.lines.Line2D at 0x13fcaec18>]"
      ]
     },
     "execution_count": 39,
     "metadata": {},
     "output_type": "execute_result"
    }
   ],
   "source": [
    "pl.clf()\n",
    "\n",
    "pl.plot(x, y, color='mediumspringgreen')\n",
    "\n",
    "pl.plot(x, y+5, color=[.1, .2, .3, 1])\n",
    "\n",
    "pl.plot(x, y+10, color='#AB4E12')"
   ]
  },
  {
   "cell_type": "markdown",
   "metadata": {},
   "source": [
    "If you identify a colormap you like, and want to use its colors manually, you can extract them easily. Think of the colormap as ranging from 0-1, and just specify the locations you want:"
   ]
  },
  {
   "cell_type": "code",
   "execution_count": 40,
   "metadata": {},
   "outputs": [],
   "source": [
    "pl.clf()\n",
    "\n",
    "values = [0, 0.1, 0.5, 0.6, 0.7, 1]\n",
    "cmap = pl.cm.jet\n",
    "\n",
    "colors = cmap(values)\n",
    "\n",
    "for idx,c in enumerate(colors):\n",
    "    pl.plot(x, y+idx, color=c)"
   ]
  },
  {
   "cell_type": "code",
   "execution_count": 41,
   "metadata": {
    "collapsed": true
   },
   "outputs": [],
   "source": [
    "pl.close()"
   ]
  },
  {
   "cell_type": "markdown",
   "metadata": {},
   "source": [
    "## The next level: `matplotlib` objects\n",
    "\n",
    "We have now covered the bare basics of plotting, and with that knowledge alone, you should be able to plot data and create some nice figures.\n",
    "\n",
    "However, `matplotlib` offers much deeper control of your plots, visualizations, and figures. To understand this functionality, we need to learn a bit about the objects `matplotlib` uses to manipulate figures and data.\n",
    "\n",
    "### Figures\n",
    "\n",
    "Think of a `Figure` as the entire window that pops up when you plot something. The `Figure` object is the interface through which you zoom and pan in your plots, save out your plots to files, and open and close windows containing plots."
   ]
  },
  {
   "cell_type": "code",
   "execution_count": 42,
   "metadata": {
    "collapsed": true
   },
   "outputs": [],
   "source": [
    "fig_1 = pl.figure('My First Figure', figsize=[8,3], facecolor='grey')\n",
    "\n",
    "fig_2 = pl.figure('My Second Figure', figsize=[3,6], facecolor='white')"
   ]
  },
  {
   "cell_type": "code",
   "execution_count": 43,
   "metadata": {
    "collapsed": true
   },
   "outputs": [],
   "source": [
    "fig_1.savefig('my_empty_fig1.png')\n",
    "\n",
    "pl.close('all')"
   ]
  },
  {
   "cell_type": "markdown",
   "metadata": {},
   "source": [
    "### Axes\n",
    "\n",
    "Whereas `Figure` objects control the high-level features of your plot windows, `Axes` objects do the bulk of your important work.\n",
    "\n",
    "Every `Axes` object lives inside a `Figure`, and many `Axes` can exist within a single `Figure`.\n",
    "\n",
    "An `Axes` object, as the name implies, is a set of (usually) x-y axes that handles the plotting and display of your data points.\n",
    "\n",
    "If you choose to construct an `Axes` object explicitly (which you will not often do), `matplotlib` will automatically place it into a `Figure`, because all `Axes` exist inside `Figure`s. In this case, supply the `Axes` constructor with 4 points, specifying the left, bottom, width, and height of the `Axes` within the `Figure`, where (0,0) represents the bottom left of the `Figure`, and (1,1) represents the top right."
   ]
  },
  {
   "cell_type": "code",
   "execution_count": 44,
   "metadata": {
    "collapsed": true
   },
   "outputs": [],
   "source": [
    "ax_1 = pl.axes([0.1, 0.1, 0.5, 0.3]) # left, bottom, width, height"
   ]
  },
  {
   "cell_type": "markdown",
   "metadata": {},
   "source": [
    "Once you have an `Axes` object, you can access a handle to its parent `Figure`:"
   ]
  },
  {
   "cell_type": "code",
   "execution_count": 45,
   "metadata": {
    "collapsed": true
   },
   "outputs": [],
   "source": [
    "fig = ax_1.figure"
   ]
  },
  {
   "cell_type": "markdown",
   "metadata": {},
   "source": [
    "It is possible to create multiple `Axes` and place them all onto a `Figure`, and that can be a good approach for very custom applications. However, in a moment we will discuss layout features in `matplotlib`, which are a good alternative to this manual approach.\n",
    "\n",
    "---\n",
    "\n",
    "First, though: you might be wondering: now that I have multiple figures, how do I choose which one to plot in when I run `pl.plot`?\n",
    "\n",
    "The answer: `matplotlib` always has a \"current\" `Figure` and `Axes` object. It will by default plot onto that current selection. \n",
    "\n",
    "One way to set the \"current\" figure is to simply click on its window interactively.\n",
    "\n",
    "Another way, useful for programming with scripts, is to use these functions (I'll let you explore them on your own):\n",
    "* `pl.gcf` (get current figure)\n",
    "* `pl.scf` (set current figure)\n",
    "* `pl.gca` (get current axes)\n",
    "* `pl.sca` (set current axes)"
   ]
  },
  {
   "cell_type": "markdown",
   "metadata": {},
   "source": [
    "*At this point I should note: while this approach of using a \"current\" figure and axes is good at small scales, I find it quite tedious and inefficient when working with more complex workflows. I recommend becoming comfortable with the object-based approaches that follow.*\n",
    "\n",
    "---\n",
    "\n",
    "### Layouts"
   ]
  },
  {
   "cell_type": "markdown",
   "metadata": {},
   "source": [
    "In practice, rather than explicitly specifying where to place your `Axes`, it is often more convenient to use some of `matplotlib`'s special functions for doing so.\n",
    "\n",
    "For example, you can use the `subplot` function to build a grid of `Axes` arranged into rectangles.\n",
    "\n",
    "The syntax is: `pl.subplot(<# of rows><# of columns><subplot index to select now>)`"
   ]
  },
  {
   "cell_type": "code",
   "execution_count": 46,
   "metadata": {},
   "outputs": [
    {
     "data": {
      "text/plain": [
       "[<matplotlib.lines.Line2D at 0x13e71f128>]"
      ]
     },
     "execution_count": 46,
     "metadata": {},
     "output_type": "execute_result"
    }
   ],
   "source": [
    "pl.clf()\n",
    "\n",
    "pl.subplot(241) # note that the first subplot is index *1*; this is an exception to conform with MATLAB conventions\n",
    "pl.plot(x, y, color='red')\n",
    "\n",
    "pl.subplot(242)\n",
    "pl.plot(x, y, color='orange')\n",
    "\n",
    "pl.subplot(243)\n",
    "pl.plot(x, y, color='yellow')\n",
    "\n",
    "pl.subplot(244)\n",
    "pl.plot(x, y, color='green')\n",
    "\n",
    "pl.subplot(245)\n",
    "pl.plot(x, y, color='blue')\n",
    "\n",
    "pl.subplot(246)\n",
    "pl.plot(x, y, color='indigo')\n",
    "\n",
    "pl.subplot(2,4,7) # note that you can also specify it with commas\n",
    "pl.plot(x, y, color='violet')"
   ]
  },
  {
   "cell_type": "markdown",
   "metadata": {},
   "source": [
    "The `subplot` function can be useful for quick, easy arrangements, but it does not take full advantage of the subplotting options available.\n",
    "\n",
    "Let's consider another function, called `subplots`. The goal of `subplots` is to lay out a pre-specified grid of subplots, and then to give you access to each one individually for further actions."
   ]
  },
  {
   "cell_type": "code",
   "execution_count": 50,
   "metadata": {
    "collapsed": true
   },
   "outputs": [],
   "source": [
    "pl.close()\n",
    "\n",
    "fig, axs = pl.subplots(3, 2, sharex=True, sharey='row')"
   ]
  },
  {
   "cell_type": "markdown",
   "metadata": {},
   "source": [
    "The above command accomplished a lot. First, it laid out a grid of 3 rows and 2 columns of `Axes` to be used for plotting. In this case, we specified that the x axes of all `Axes` should be synchronized, and the y axes of each row of `Axes` should be synchronized. We will see the consequence of that in a moment.\n",
    "\n",
    "Importantly, note what the function returned to us:\n",
    "<ul>\n",
    "<li>`fig`: the `Figure` object holding all of our new `Axes` objects</li>\n",
    "<li>`axs`: an array of all our new `Axes` objects</li>\n",
    "</ul>\n",
    "\n",
    "Let's inspect `axs`:"
   ]
  },
  {
   "cell_type": "code",
   "execution_count": 51,
   "metadata": {},
   "outputs": [
    {
     "name": "stdout",
     "output_type": "stream",
     "text": [
      "The axs object has shape (3, 2)\n",
      "The first item in axs is: Axes(0.125,0.653529;0.352273x0.226471)\n",
      "The last item in axs is: Axes(0.547727,0.11;0.352273x0.226471)\n"
     ]
    }
   ],
   "source": [
    "print( 'The axs object has shape', axs.shape )\n",
    "\n",
    "print( 'The first item in axs is:', axs[0,0] )\n",
    "\n",
    "print( 'The last item in axs is:', axs[-1,-1] )"
   ]
  },
  {
   "cell_type": "markdown",
   "metadata": {},
   "source": [
    "The `axs` variable is 3x2 array, meaning it is shaped just like the physical layout of our `Axes` within the figure.\n",
    "\n",
    "Each element in the array is an `Axes` object. Why would we want access to this object?\n",
    "\n",
    "It turns out that most of the `matplotlib` commands we have learned so far, which we accessed using `pl.command`, are in some sense shortcuts for the commands offered by `Axes`."
   ]
  },
  {
   "cell_type": "code",
   "execution_count": 52,
   "metadata": {},
   "outputs": [
    {
     "data": {
      "text/plain": [
       "<matplotlib.text.Text at 0x130e492e8>"
      ]
     },
     "execution_count": 52,
     "metadata": {},
     "output_type": "execute_result"
    }
   ],
   "source": [
    "ax = axs[2,0]\n",
    "\n",
    "ax.plot(x, y, linewidth=5)\n",
    "ax.set_ylabel('My y label')\n",
    "ax.set_title('My title')"
   ]
  },
  {
   "cell_type": "code",
   "execution_count": 53,
   "metadata": {
    "collapsed": true
   },
   "outputs": [],
   "source": [
    "ax.clear()"
   ]
  },
  {
   "cell_type": "markdown",
   "metadata": {},
   "source": [
    "Controlling `Axes` objects directly is a more powerful approach than our previous one. To get a sense for why that is, consider this block of code:"
   ]
  },
  {
   "cell_type": "code",
   "execution_count": 54,
   "metadata": {},
   "outputs": [],
   "source": [
    "# define 3 colours, one for each row\n",
    "colors = ['red', 'blue', 'tan']\n",
    "\n",
    "# define 2 line widths, one for each column\n",
    "linewidths = [2, 5]\n",
    "\n",
    "# iterate each row\n",
    "for row_idx in range(axs.shape[0]):\n",
    "   \n",
    "    # iterate through each column in this row\n",
    "    for col_idx in range(axs.shape[1]):\n",
    "        \n",
    "        # retrieve the Axes object at this row-column coordinate\n",
    "        ax = axs[row_idx, col_idx]\n",
    "        \n",
    "        # plot the data using the parameters for this particular location\n",
    "        ax.plot(x, y, color=colors[row_idx], linewidth=linewidths[col_idx])\n",
    "        ax.set_title('I am in row {}, column {}'.format(row_idx, col_idx))"
   ]
  },
  {
   "cell_type": "markdown",
   "metadata": {},
   "source": [
    "The most powerful way to build and customize your plots is to use a scheme like the one shown above.\n",
    "\n",
    "---\n",
    "\n",
    "For many applications, you might want a more complex layout of subplots. Of course, you can always position the subplots as you wish by defining coordinates of `Axes` objects, but `matplotlib` offers another tool for adding a layer of complexity to the layout."
   ]
  },
  {
   "cell_type": "code",
   "execution_count": 55,
   "metadata": {},
   "outputs": [],
   "source": [
    "from matplotlib.gridspec import GridSpec\n",
    "\n",
    "rows = 2\n",
    "columns = 4\n",
    "\n",
    "gs = GridSpec(nrows=rows, \n",
    "              ncols=columns, \n",
    "              left=0.1, \n",
    "              bottom=0.2, \n",
    "              right=0.9, \n",
    "              top=0.7, \n",
    "              wspace=0.01, \n",
    "              hspace=0.1, \n",
    "              width_ratios=[1,3,1,1],\n",
    "              height_ratios=[1,2])\n",
    "\n",
    "fig = pl.figure('My GridSpec Example #1')\n",
    "\n",
    "for row in range(rows):\n",
    "    for col in range(columns):\n",
    "        ax = fig.add_subplot(gs[row,col])\n",
    "        ax.plot(x,y)"
   ]
  },
  {
   "cell_type": "code",
   "execution_count": 57,
   "metadata": {},
   "outputs": [
    {
     "data": {
      "text/plain": [
       "[<matplotlib.lines.Line2D at 0x1431235f8>]"
      ]
     },
     "execution_count": 57,
     "metadata": {},
     "output_type": "execute_result"
    }
   ],
   "source": [
    "pl.close()\n",
    "\n",
    "# define a new gridspec\n",
    "rows = 12\n",
    "columns = 12\n",
    "gs = GridSpec(nrows=rows, \n",
    "              ncols=columns)\n",
    "\n",
    "# create the figure\n",
    "fig = pl.figure('My GridSpec Example #2')\n",
    "\n",
    "\n",
    "# display empty axes to show positions of gridspec\n",
    "for r in range(rows):\n",
    "    for c in range(columns):\n",
    "        ax = fig.add_subplot(gs[r,c], facecolor='gray')\n",
    "        ax.patch.set_alpha(.2)\n",
    "        ax.set_xticks([])\n",
    "        ax.set_yticks([])\n",
    "\n",
    "\n",
    "# create some axes using ranges of the gridspec\n",
    "ax1 = fig.add_subplot(gs[0:12,0:3])\n",
    "ax1.plot(x, y, color='pink', linestyle='--')\n",
    "\n",
    "ax2 = fig.add_subplot(gs[0:6,3:7])\n",
    "ax2.plot(x, y, color='brown')\n",
    "\n",
    "ax2 = fig.add_subplot(gs[8:,5:])\n",
    "ax2.plot(x, y, color='green')"
   ]
  },
  {
   "cell_type": "code",
   "execution_count": null,
   "metadata": {
    "collapsed": true
   },
   "outputs": [],
   "source": [
    "pl.close('all')"
   ]
  },
  {
   "cell_type": "markdown",
   "metadata": {},
   "source": [
    "---\n",
    "\n",
    "Now that we've learned a bit about how to construct layouts, let's return to the discussion of `matplotlib` objects.\n",
    "\n",
    "We have already seen that we can get handles to `Figure` objects and `Axes` objects. It turns out that every single thing you display with `matplotlib` has an associated object handle."
   ]
  },
  {
   "cell_type": "code",
   "execution_count": 58,
   "metadata": {
    "collapsed": true
   },
   "outputs": [],
   "source": [
    "ax = pl.subplot(111)\n",
    "\n",
    "line, = ax.plot(x, y)"
   ]
  },
  {
   "cell_type": "code",
   "execution_count": 59,
   "metadata": {},
   "outputs": [
    {
     "name": "stdout",
     "output_type": "stream",
     "text": [
      "[ -9.97494987e-01  -6.80203151e-01  -3.67396613e-01  -8.40963160e-02\n",
      "   1.48712176e-01   3.15856227e-01   4.09205157e-01   4.28243833e-01\n",
      "   3.79942974e-01   2.77941748e-01   1.41120008e-01  -8.30756167e-03\n",
      "  -1.47000237e-01  -2.52800625e-01  -3.06933299e-01  -2.95891358e-01\n",
      "  -2.12837699e-01  -5.83914567e-02   1.59274598e-01   4.25037815e-01\n",
      "   7.18079488e-01   1.01367893e+00   1.28538899e+00   1.50739948e+00\n",
      "   1.65687723e+00   1.71607317e+00   1.67400653e+00   1.52757353e+00\n",
      "   1.28197879e+00   9.50447242e-01   5.53238493e-01   1.16047176e-01\n",
      "  -3.32072475e-01  -7.61077406e-01  -1.14239513e+00  -1.45125708e+00\n",
      "  -1.66870239e+00  -1.78307784e+00  -1.79090430e+00  -1.69703616e+00\n",
      "  -1.51410304e+00  -1.26128623e+00  -9.62541562e-01  -6.44428630e-01\n",
      "  -3.33741168e-01  -5.51500669e-02   1.70931182e-01   3.30069531e-01\n",
      "   4.14972234e-01   4.25982813e-01   3.70872342e-01   2.63948664e-01\n",
      "   1.24567553e-01  -2.48164755e-02  -1.60880623e-01  -2.61741269e-01\n",
      "  -3.09127269e-01  -2.90220060e-01  -1.98991517e-01  -3.69157362e-02\n",
      "   1.87012730e-01   4.56959193e-01   7.51569684e-01   1.04581647e+00\n",
      "   1.31320474e+00   1.52814408e+00   1.66827265e+00   1.71652571e+00\n",
      "   1.66276213e+00   1.50480117e+00   1.24877412e+00   9.08755830e-01\n",
      "   5.05704915e-01   6.58030511e-02  -3.81663202e-01  -8.06693706e-01\n",
      "  -1.18103065e+00  -1.48046469e+00  -1.68679025e+00  -1.78923990e+00\n",
      "  -1.78527412e+00  -1.68065966e+00  -1.48883282e+00  -1.22960738e+00\n",
      "  -9.27344516e-01  -6.08749643e-01  -3.00493504e-01  -2.68699163e-02\n",
      "   1.92301511e-01   3.43342001e-01   4.19803010e-01   4.22884078e-01\n",
      "   3.61145344e-01   2.49544479e-01   1.07888493e-01  -4.11565056e-02\n",
      "  -1.74314862e-01  -2.70004244e-01  -3.10481094e-01  -2.83632122e-01\n",
      "  -1.84247198e-01  -1.46556158e-02   2.15334902e-01   4.89194347e-01\n",
      "   7.85056848e-01   1.07761556e+00   1.34035804e+00   1.54794307e+00\n",
      "   1.67850632e+00   1.71568798e+00   1.65019970e+00   1.48078820e+00\n",
      "   1.21450683e+00   8.66266889e-01   4.57705021e-01   1.54631254e-02\n",
      "  -4.30970179e-01  -8.51668758e-01  -1.21871866e+00  -1.50849453e+00\n",
      "  -1.70356420e+00  -1.79405605e+00  -1.77837118e+00  -1.66318058e+00\n",
      "  -1.46271092e+00  -1.19738527e+00  -8.91942283e-01  -5.73203065e-01\n",
      "  -2.67685717e-01   7.19560865e-04   2.12808140e-01   3.55669301e-01\n",
      "   4.23703993e-01   4.18964123e-01   3.50786705e-01   2.34759630e-01\n",
      "   9.11159452e-02  -5.72951320e-02  -1.87274249e-01  -2.77567528e-01\n",
      "  -3.10981678e-01  -2.76124808e-01  -1.68612835e-01   8.37051344e-03\n",
      "   2.44213916e-01   5.21709596e-01   8.18503764e-01   1.10903876e+00\n",
      "   1.36681460e+00   1.56676846e+00   1.68755916e+00   1.71355171e+00\n",
      "   1.63632269e+00   1.45554976e+00   1.17920261e+00   8.23014708e-01\n",
      "   4.09278927e-01  -3.49299274e-02  -4.79951671e-01  -8.95965177e-01\n",
      "  -1.25542917e+00  -1.53532638e+00  -1.71901537e+00  -1.79752934e+00\n",
      "  -1.77020995e+00  -1.64462341e+00  -1.43576954e+00  -1.16465688e+00\n",
      "  -8.56373293e-01  -5.37825386e-01  -2.35349186e-01   2.75947749e-02\n",
      "   2.32437205e-01   3.67048327e-01   4.26682868e-01   4.14240472e-01\n",
      "   3.39821928e-01   2.19625014e-01   7.42831245e-02  -7.32001065e-02\n",
      "  -1.99730695e-01  -2.84409998e-01  -3.10617036e-01  -2.67696591e-01\n",
      "  -1.52097723e-01   3.21431824e-02   2.73621721e-01   5.54470705e-01\n",
      "   8.51873018e-01   1.14004881e+00   1.39254068e+00   1.58459312e+00\n",
      "   1.69541324e+00   1.71010988e+00   1.62113587e+00   1.42910221e+00\n",
      "   1.14288825e+00   7.79034381e-01   3.60467205e-01  -8.53333635e-02]\n"
     ]
    }
   ],
   "source": [
    "print( line.get_ydata() )"
   ]
  },
  {
   "cell_type": "code",
   "execution_count": 60,
   "metadata": {},
   "outputs": [],
   "source": [
    "ax.clear()\n",
    "\n",
    "ys = np.array([y+2*i for i in range(20)]).T # to plot multiple lines, first axis corresponds to sequential x values\n",
    "\n",
    "lines = ax.plot(x, ys) # read out the line handles into a variable"
   ]
  },
  {
   "cell_type": "markdown",
   "metadata": {},
   "source": [
    "If you hold the line handles in a variable, you can edit the data at any time."
   ]
  },
  {
   "cell_type": "code",
   "execution_count": 61,
   "metadata": {
    "collapsed": true
   },
   "outputs": [],
   "source": [
    "for idx,line in enumerate(lines):\n",
    "    line.set_linewidth(idx)"
   ]
  },
  {
   "cell_type": "code",
   "execution_count": 62,
   "metadata": {
    "collapsed": true
   },
   "outputs": [],
   "source": [
    "for idx,line in enumerate(lines):\n",
    "    if idx%2 == 0:\n",
    "        line.set_xdata(x+.5)"
   ]
  },
  {
   "cell_type": "code",
   "execution_count": 63,
   "metadata": {
    "collapsed": true
   },
   "outputs": [],
   "source": [
    "for line in lines:\n",
    "    line.set_marker('x')\n",
    "    line.set_markersize(25)"
   ]
  },
  {
   "cell_type": "markdown",
   "metadata": {},
   "source": [
    "In fact, you can grab and edit any visible component of a plot:"
   ]
  },
  {
   "cell_type": "code",
   "execution_count": 64,
   "metadata": {
    "collapsed": true
   },
   "outputs": [],
   "source": [
    "ax.spines['right'].set_visible(False)\n",
    "ax.spines['bottom'].set_linewidth(5)\n",
    "ax.spines['left'].set_color('pink')\n",
    "ax.spines['top'].set_linestyle('--')"
   ]
  },
  {
   "cell_type": "code",
   "execution_count": 65,
   "metadata": {},
   "outputs": [],
   "source": [
    "for lab in ax.get_xticklabels():\n",
    "    lab.set_color(np.random.random(size=4))\n",
    "    lab.set_fontsize(np.random.randint(10,30))"
   ]
  },
  {
   "cell_type": "code",
   "execution_count": 66,
   "metadata": {
    "collapsed": true
   },
   "outputs": [],
   "source": [
    "pl.close('all')"
   ]
  },
  {
   "cell_type": "markdown",
   "metadata": {},
   "source": [
    "At this point, you should have an understanding of how `matplotlib` represents plots and data.\n",
    "\n",
    "---\n",
    "\n",
    "There is another important topic we have not yet covered. What if you want to place text, other than axis labels and titles, onto your plots?\n",
    "\n",
    "There are 3 basic ways to accomplish this, depending on your specific needs.\n",
    "\n",
    "The first, and simplest, is to use `Axes.text`:"
   ]
  },
  {
   "cell_type": "code",
   "execution_count": 67,
   "metadata": {},
   "outputs": [
    {
     "data": {
      "text/plain": [
       "<matplotlib.text.Text at 0x143909198>"
      ]
     },
     "execution_count": 67,
     "metadata": {},
     "output_type": "execute_result"
    }
   ],
   "source": [
    "ax = pl.subplot(111)\n",
    "\n",
    "ax.plot(x, y, color='c')\n",
    "\n",
    "ax.text(0.5, 0.75, 'hello there') # x-coord, y-coord, text"
   ]
  },
  {
   "cell_type": "code",
   "execution_count": 68,
   "metadata": {},
   "outputs": [
    {
     "data": {
      "text/plain": [
       "<matplotlib.text.Text at 0x14349f7b8>"
      ]
     },
     "execution_count": 68,
     "metadata": {},
     "output_type": "execute_result"
    }
   ],
   "source": [
    "ax.text(7, 0.2, 'hello again',\n",
    "        horizontalalignment='center',\n",
    "        rotation=45,\n",
    "        fontsize='x-large',\n",
    "        color='red')"
   ]
  },
  {
   "cell_type": "markdown",
   "metadata": {},
   "source": [
    "Sometimes, you might want to place some text with the goal of annotating a particular piece of your data.\n",
    "\n",
    "In that case, `Axes.annotate` is very useful:"
   ]
  },
  {
   "cell_type": "code",
   "execution_count": 69,
   "metadata": {},
   "outputs": [
    {
     "data": {
      "text/plain": [
       "[<matplotlib.lines.Line2D at 0x1438ee860>]"
      ]
     },
     "execution_count": 69,
     "metadata": {},
     "output_type": "execute_result"
    }
   ],
   "source": [
    "ax.clear()\n",
    "\n",
    "ax.plot(x, y, color='gray')"
   ]
  },
  {
   "cell_type": "code",
   "execution_count": 70,
   "metadata": {},
   "outputs": [
    {
     "data": {
      "text/plain": [
       "<matplotlib.text.Annotation at 0x143918da0>"
      ]
     },
     "execution_count": 70,
     "metadata": {},
     "output_type": "execute_result"
    }
   ],
   "source": [
    "\n",
    "point_of_interest = 32\n",
    "\n",
    "xval = x[point_of_interest]\n",
    "yval = y[point_of_interest]\n",
    "\n",
    "ax.annotate('Point of Interest', \n",
    "            xy=(xval, yval), \n",
    "            xytext=(xval+.5, yval+1), \n",
    "            arrowprops={'width':3})"
   ]
  },
  {
   "cell_type": "markdown",
   "metadata": {},
   "source": [
    "Finally, suppose you want to place some text in the figure, not related to the data or `Axes` coordinates:"
   ]
  },
  {
   "cell_type": "code",
   "execution_count": 71,
   "metadata": {},
   "outputs": [
    {
     "data": {
      "text/plain": [
       "<matplotlib.text.Text at 0x1438f68d0>"
      ]
     },
     "execution_count": 71,
     "metadata": {},
     "output_type": "execute_result"
    }
   ],
   "source": [
    "fig = ax.figure\n",
    "\n",
    "fig.text(0.05, .95, \"I'm up here!\", color='pink')"
   ]
  },
  {
   "cell_type": "markdown",
   "metadata": {},
   "source": [
    "*Note for aficionados: on the topic of axes vs figure coorindate systems, `matplotlib` offers <a href=\"http://matplotlib.org/users/transforms_tutorial.html\">an excellent suite of functions</a> for coordinate transformations.*\n",
    "\n",
    "`matplotlib` also offers the ability to include mathematical expressions using LaTeX conventions:"
   ]
  },
  {
   "cell_type": "code",
   "execution_count": 72,
   "metadata": {},
   "outputs": [
    {
     "data": {
      "text/plain": [
       "<matplotlib.text.Text at 0x1438e9940>"
      ]
     },
     "execution_count": 72,
     "metadata": {},
     "output_type": "execute_result"
    }
   ],
   "source": [
    "ax.clear()\n",
    "fig.text(.5, .5, \n",
    "         r'$ e^x = 1 + x + \\frac{x^2}{2!} + \\frac{x^3}{3!} \\ldots = \\sum_{n=0}^{\\infty}\\frac{x^n}{n!} $',\n",
    "        fontsize='large',\n",
    "        ha='center')"
   ]
  },
  {
   "cell_type": "code",
   "execution_count": 73,
   "metadata": {
    "collapsed": true
   },
   "outputs": [],
   "source": [
    "pl.close('all')"
   ]
  },
  {
   "cell_type": "markdown",
   "metadata": {},
   "source": [
    "---\n",
    "\n",
    "### Patches\n",
    "\n",
    "All of the plots you have seen, including the lines, dots, bars, axes, words, etc. are made of simpler building blocks: shapes and colours.\n",
    "\n",
    "`matplotlib` gives you access to all of these shapes."
   ]
  },
  {
   "cell_type": "code",
   "execution_count": 74,
   "metadata": {},
   "outputs": [
    {
     "data": {
      "text/plain": [
       "(-8.8000000000000007,\n",
       " 8.8000000000000007,\n",
       " -4.0750000000000002,\n",
       " 8.5749999999999993)"
      ]
     },
     "execution_count": 74,
     "metadata": {},
     "output_type": "execute_result"
    }
   ],
   "source": [
    "circle1 = pl.Circle(xy=[-5,5], radius=3, color='turquoise')\n",
    "circle2 = pl.Circle(xy=[-5,5], radius=1, color='k')\n",
    "circle3 = pl.Circle(xy=[5,5], radius=3, color='turquoise')\n",
    "circle4 = pl.Circle(xy=[5,5], radius=1, color='k')\n",
    "\n",
    "arrow = pl.Arrow(x=0, y=3, dx=0, dy=-2, color='chocolate', linewidth=15)\n",
    "\n",
    "rects1 = [pl.Rectangle(xy=[i,-1.5], width=1, height=1, facecolor='lightyellow', edgecolor='k') for i in np.arange(-6,6)]\n",
    "rects2 = [pl.Rectangle(xy=[i,-3.5], width=1, height=1, facecolor='lightyellow', edgecolor='k') for i in np.arange(-6,6)]\n",
    "\n",
    "ax = pl.subplot(111)\n",
    "\n",
    "ax.add_patch(circle1)\n",
    "ax.add_patch(circle2)\n",
    "ax.add_patch(circle3)\n",
    "ax.add_patch(circle4)\n",
    "\n",
    "ax.add_patch(arrow)\n",
    "\n",
    "for rect in rects1 + rects2:\n",
    "    ax.add_patch(rect)\n",
    "\n",
    "ax.axis('equal')"
   ]
  },
  {
   "cell_type": "markdown",
   "metadata": {},
   "source": [
    "Since a plot is just composed of patches like these, we can get handles to those patches."
   ]
  },
  {
   "cell_type": "code",
   "execution_count": 75,
   "metadata": {},
   "outputs": [],
   "source": [
    "pl.clf()\n",
    "ax = pl.gca()\n",
    "\n",
    "normal = np.random.normal(size=10000)\n",
    "counts,bins,patches = ax.hist(normal, bins=60)"
   ]
  },
  {
   "cell_type": "code",
   "execution_count": 76,
   "metadata": {},
   "outputs": [],
   "source": [
    "for patch in patches:\n",
    "    patch.set_color(np.random.random(3))"
   ]
  },
  {
   "cell_type": "code",
   "execution_count": 77,
   "metadata": {},
   "outputs": [
    {
     "data": {
      "text/plain": [
       "(0, 1000)"
      ]
     },
     "execution_count": 77,
     "metadata": {},
     "output_type": "execute_result"
    }
   ],
   "source": [
    "for patch in patches[::2]:\n",
    "    x,y = patch.get_xy()\n",
    "    h = patch.get_height()\n",
    "    patch.set_xy([x,1000])\n",
    "    patch.set_height(-h)\n",
    "    \n",
    "ax.set_ylim(0,1000)"
   ]
  },
  {
   "cell_type": "markdown",
   "metadata": {},
   "source": [
    "---\n",
    "\n",
    "At this point, I want to briefly touch on a few other advanced features of `matplotlib`.\n",
    "\n",
    "### 3D plotting"
   ]
  },
  {
   "cell_type": "code",
   "execution_count": 78,
   "metadata": {},
   "outputs": [
    {
     "data": {
      "text/plain": [
       "<mpl_toolkits.mplot3d.art3d.Poly3DCollection at 0x14660ca58>"
      ]
     },
     "execution_count": 78,
     "metadata": {},
     "output_type": "execute_result"
    }
   ],
   "source": [
    "# taken directly from: http://matplotlib.org/mpl_toolkits/mplot3d/tutorial.html#contour-plots\n",
    "\n",
    "from mpl_toolkits.mplot3d import Axes3D\n",
    "\n",
    "n_radii = 8\n",
    "n_angles = 36\n",
    "\n",
    "# Make radii and angles spaces (radius r=0 omitted to eliminate duplication).\n",
    "radii = np.linspace(0.125, 1.0, n_radii)\n",
    "angles = np.linspace(0, 2*np.pi, n_angles, endpoint=False)\n",
    "\n",
    "# Repeat all angles for each radius.\n",
    "angles = np.repeat(angles[..., np.newaxis], n_radii, axis=1)\n",
    "\n",
    "# Convert polar (radii, angles) coords to cartesian (x, y) coords.\n",
    "# (0, 0) is manually added at this stage,  so there will be no duplicate\n",
    "# points in the (x, y) plane.\n",
    "x = np.append(0, (radii*np.cos(angles)).flatten())\n",
    "y = np.append(0, (radii*np.sin(angles)).flatten())\n",
    "\n",
    "# Compute z to make the pringle surface.\n",
    "z = np.sin(-x*y)\n",
    "\n",
    "fig = pl.figure()\n",
    "ax = fig.gca(projection='3d')\n",
    "\n",
    "ax.plot_trisurf(x, y, z, linewidth=0.2, antialiased=True)"
   ]
  },
  {
   "cell_type": "markdown",
   "metadata": {},
   "source": [
    "### Animations"
   ]
  },
  {
   "cell_type": "code",
   "execution_count": 79,
   "metadata": {},
   "outputs": [
    {
     "name": "stderr",
     "output_type": "stream",
     "text": [
      "/Users/ben/anaconda/lib/python3.5/site-packages/matplotlib/backend_bases.py:2445: MatplotlibDeprecationWarning: Using default event loop until function specific to this GUI is implemented\n",
      "  warnings.warn(str, mplDeprecation)\n"
     ]
    }
   ],
   "source": [
    "pl.close('all')\n",
    "\n",
    "fig, axs = pl.subplots(1, 2, figsize=(10,5))\n",
    "\n",
    "# draw a circle\n",
    "circ = pl.Circle([0,0], 1, color='darkslategrey', linewidth=4)\n",
    "axs[0].add_patch(circ)\n",
    "# draw lines over the circle\n",
    "axs[0].plot([-1,1], [0,0], color='w', lw=.5)\n",
    "axs[0].plot([0,0], [-1,1], color='w', lw=.5)\n",
    "circle_line, = axs[0].plot([0,1], [0,0], color='k')\n",
    "# scale the circle axis\n",
    "axs[0].axis([-1.2, 1.2, -1.2, 1.2])\n",
    "axs[0].axis('equal')\n",
    "axs[0].axis('off')\n",
    "\n",
    "# create one period of a sine wave\n",
    "x = np.arange(0, 2*np.pi, 0.05)\n",
    "y = np.sin(x)\n",
    "# plot the sine wave\n",
    "axs[1].plot(x, y, color='maroon', linewidth=5)\n",
    "# plot a dot and line to follow the sine wave\n",
    "dot, = axs[1].plot(x[0], y[0], marker='o', markersize=10, color='orange')\n",
    "sine_line, = axs[1].plot([0,0], [-1,1], color='gray', linestyle='--')\n",
    "# turn off x axis ticks\n",
    "axs[1].set_xticks([])\n",
    "\n",
    "# run an animation\n",
    "idx = 0\n",
    "n_iters = 0\n",
    "while n_iters<5:\n",
    "    xval = x[idx]\n",
    "    yval = y[idx]\n",
    "    \n",
    "    # update circle display\n",
    "    x_component = np.cos(xval)\n",
    "    y_component = np.sin(xval)\n",
    "    circle_line.set_xdata([0, x_component])\n",
    "    circle_line.set_ydata([0, y_component])\n",
    "    \n",
    "    # update sine wave plot\n",
    "    sine_line.set_xdata([xval, xval])\n",
    "    dot.set_xdata(xval)\n",
    "    dot.set_ydata(yval)\n",
    "    \n",
    "    pl.pause(0.001)\n",
    "    \n",
    "    idx += 1\n",
    "    if idx == len(x):\n",
    "        idx = 0\n",
    "        n_iters += 1"
   ]
  },
  {
   "cell_type": "markdown",
   "metadata": {},
   "source": [
    "### Interactivity"
   ]
  },
  {
   "cell_type": "code",
   "execution_count": 80,
   "metadata": {},
   "outputs": [
    {
     "data": {
      "text/plain": [
       "0"
      ]
     },
     "execution_count": 80,
     "metadata": {},
     "output_type": "execute_result"
    }
   ],
   "source": [
    "fig = pl.figure('Bubbles', figsize=[6,6])\n",
    "ax = fig.add_axes([0,0,1,1])\n",
    "\n",
    "def make_circle(event):\n",
    "    x,y,r = np.random.random(size=3)\n",
    "    color = np.random.random(size=3)\n",
    "    circ = pl.Circle((x,y), r/20, color=color)\n",
    "    ax.add_patch(circ)\n",
    "    fig.canvas.draw()\n",
    "\n",
    "ax_button = fig.add_axes([0.4,.45,.2,.1])\n",
    "button = pl.Button(ax_button, label='Make A Bubble')\n",
    "button.on_clicked(make_circle)"
   ]
  },
  {
   "cell_type": "markdown",
   "metadata": {},
   "source": [
    "### Backends\n",
    "\n",
    "I will not cover this topic extensively, but I do want to mention it for the sake of demonstrating one useful feature.\n",
    "\n",
    "`matplotlib` draws it figures using \"backends\" - code specific to drawing on different operating systems and using different methods.\n",
    "\n",
    "iPython (which runs by default in Jupyter notebooks) offers a simple syntax for specifying your matplotlib notebook. And, `matplotlib` has begun to build a comprehensive backend specifically for notebooks like this one."
   ]
  },
  {
   "cell_type": "code",
   "execution_count": 81,
   "metadata": {},
   "outputs": [
    {
     "data": {
      "application/javascript": [
       "/* Put everything inside the global mpl namespace */\n",
       "window.mpl = {};\n",
       "\n",
       "\n",
       "mpl.get_websocket_type = function() {\n",
       "    if (typeof(WebSocket) !== 'undefined') {\n",
       "        return WebSocket;\n",
       "    } else if (typeof(MozWebSocket) !== 'undefined') {\n",
       "        return MozWebSocket;\n",
       "    } else {\n",
       "        alert('Your browser does not have WebSocket support.' +\n",
       "              'Please try Chrome, Safari or Firefox ≥ 6. ' +\n",
       "              'Firefox 4 and 5 are also supported but you ' +\n",
       "              'have to enable WebSockets in about:config.');\n",
       "    };\n",
       "}\n",
       "\n",
       "mpl.figure = function(figure_id, websocket, ondownload, parent_element) {\n",
       "    this.id = figure_id;\n",
       "\n",
       "    this.ws = websocket;\n",
       "\n",
       "    this.supports_binary = (this.ws.binaryType != undefined);\n",
       "\n",
       "    if (!this.supports_binary) {\n",
       "        var warnings = document.getElementById(\"mpl-warnings\");\n",
       "        if (warnings) {\n",
       "            warnings.style.display = 'block';\n",
       "            warnings.textContent = (\n",
       "                \"This browser does not support binary websocket messages. \" +\n",
       "                    \"Performance may be slow.\");\n",
       "        }\n",
       "    }\n",
       "\n",
       "    this.imageObj = new Image();\n",
       "\n",
       "    this.context = undefined;\n",
       "    this.message = undefined;\n",
       "    this.canvas = undefined;\n",
       "    this.rubberband_canvas = undefined;\n",
       "    this.rubberband_context = undefined;\n",
       "    this.format_dropdown = undefined;\n",
       "\n",
       "    this.image_mode = 'full';\n",
       "\n",
       "    this.root = $('<div/>');\n",
       "    this._root_extra_style(this.root)\n",
       "    this.root.attr('style', 'display: inline-block');\n",
       "\n",
       "    $(parent_element).append(this.root);\n",
       "\n",
       "    this._init_header(this);\n",
       "    this._init_canvas(this);\n",
       "    this._init_toolbar(this);\n",
       "\n",
       "    var fig = this;\n",
       "\n",
       "    this.waiting = false;\n",
       "\n",
       "    this.ws.onopen =  function () {\n",
       "            fig.send_message(\"supports_binary\", {value: fig.supports_binary});\n",
       "            fig.send_message(\"send_image_mode\", {});\n",
       "            if (mpl.ratio != 1) {\n",
       "                fig.send_message(\"set_dpi_ratio\", {'dpi_ratio': mpl.ratio});\n",
       "            }\n",
       "            fig.send_message(\"refresh\", {});\n",
       "        }\n",
       "\n",
       "    this.imageObj.onload = function() {\n",
       "            if (fig.image_mode == 'full') {\n",
       "                // Full images could contain transparency (where diff images\n",
       "                // almost always do), so we need to clear the canvas so that\n",
       "                // there is no ghosting.\n",
       "                fig.context.clearRect(0, 0, fig.canvas.width, fig.canvas.height);\n",
       "            }\n",
       "            fig.context.drawImage(fig.imageObj, 0, 0);\n",
       "        };\n",
       "\n",
       "    this.imageObj.onunload = function() {\n",
       "        this.ws.close();\n",
       "    }\n",
       "\n",
       "    this.ws.onmessage = this._make_on_message_function(this);\n",
       "\n",
       "    this.ondownload = ondownload;\n",
       "}\n",
       "\n",
       "mpl.figure.prototype._init_header = function() {\n",
       "    var titlebar = $(\n",
       "        '<div class=\"ui-dialog-titlebar ui-widget-header ui-corner-all ' +\n",
       "        'ui-helper-clearfix\"/>');\n",
       "    var titletext = $(\n",
       "        '<div class=\"ui-dialog-title\" style=\"width: 100%; ' +\n",
       "        'text-align: center; padding: 3px;\"/>');\n",
       "    titlebar.append(titletext)\n",
       "    this.root.append(titlebar);\n",
       "    this.header = titletext[0];\n",
       "}\n",
       "\n",
       "\n",
       "\n",
       "mpl.figure.prototype._canvas_extra_style = function(canvas_div) {\n",
       "\n",
       "}\n",
       "\n",
       "\n",
       "mpl.figure.prototype._root_extra_style = function(canvas_div) {\n",
       "\n",
       "}\n",
       "\n",
       "mpl.figure.prototype._init_canvas = function() {\n",
       "    var fig = this;\n",
       "\n",
       "    var canvas_div = $('<div/>');\n",
       "\n",
       "    canvas_div.attr('style', 'position: relative; clear: both; outline: 0');\n",
       "\n",
       "    function canvas_keyboard_event(event) {\n",
       "        return fig.key_event(event, event['data']);\n",
       "    }\n",
       "\n",
       "    canvas_div.keydown('key_press', canvas_keyboard_event);\n",
       "    canvas_div.keyup('key_release', canvas_keyboard_event);\n",
       "    this.canvas_div = canvas_div\n",
       "    this._canvas_extra_style(canvas_div)\n",
       "    this.root.append(canvas_div);\n",
       "\n",
       "    var canvas = $('<canvas/>');\n",
       "    canvas.addClass('mpl-canvas');\n",
       "    canvas.attr('style', \"left: 0; top: 0; z-index: 0; outline: 0\")\n",
       "\n",
       "    this.canvas = canvas[0];\n",
       "    this.context = canvas[0].getContext(\"2d\");\n",
       "\n",
       "    var backingStore = this.context.backingStorePixelRatio ||\n",
       "\tthis.context.webkitBackingStorePixelRatio ||\n",
       "\tthis.context.mozBackingStorePixelRatio ||\n",
       "\tthis.context.msBackingStorePixelRatio ||\n",
       "\tthis.context.oBackingStorePixelRatio ||\n",
       "\tthis.context.backingStorePixelRatio || 1;\n",
       "\n",
       "    mpl.ratio = (window.devicePixelRatio || 1) / backingStore;\n",
       "\n",
       "    var rubberband = $('<canvas/>');\n",
       "    rubberband.attr('style', \"position: absolute; left: 0; top: 0; z-index: 1;\")\n",
       "\n",
       "    var pass_mouse_events = true;\n",
       "\n",
       "    canvas_div.resizable({\n",
       "        start: function(event, ui) {\n",
       "            pass_mouse_events = false;\n",
       "        },\n",
       "        resize: function(event, ui) {\n",
       "            fig.request_resize(ui.size.width, ui.size.height);\n",
       "        },\n",
       "        stop: function(event, ui) {\n",
       "            pass_mouse_events = true;\n",
       "            fig.request_resize(ui.size.width, ui.size.height);\n",
       "        },\n",
       "    });\n",
       "\n",
       "    function mouse_event_fn(event) {\n",
       "        if (pass_mouse_events)\n",
       "            return fig.mouse_event(event, event['data']);\n",
       "    }\n",
       "\n",
       "    rubberband.mousedown('button_press', mouse_event_fn);\n",
       "    rubberband.mouseup('button_release', mouse_event_fn);\n",
       "    // Throttle sequential mouse events to 1 every 20ms.\n",
       "    rubberband.mousemove('motion_notify', mouse_event_fn);\n",
       "\n",
       "    rubberband.mouseenter('figure_enter', mouse_event_fn);\n",
       "    rubberband.mouseleave('figure_leave', mouse_event_fn);\n",
       "\n",
       "    canvas_div.on(\"wheel\", function (event) {\n",
       "        event = event.originalEvent;\n",
       "        event['data'] = 'scroll'\n",
       "        if (event.deltaY < 0) {\n",
       "            event.step = 1;\n",
       "        } else {\n",
       "            event.step = -1;\n",
       "        }\n",
       "        mouse_event_fn(event);\n",
       "    });\n",
       "\n",
       "    canvas_div.append(canvas);\n",
       "    canvas_div.append(rubberband);\n",
       "\n",
       "    this.rubberband = rubberband;\n",
       "    this.rubberband_canvas = rubberband[0];\n",
       "    this.rubberband_context = rubberband[0].getContext(\"2d\");\n",
       "    this.rubberband_context.strokeStyle = \"#000000\";\n",
       "\n",
       "    this._resize_canvas = function(width, height) {\n",
       "        // Keep the size of the canvas, canvas container, and rubber band\n",
       "        // canvas in synch.\n",
       "        canvas_div.css('width', width)\n",
       "        canvas_div.css('height', height)\n",
       "\n",
       "        canvas.attr('width', width * mpl.ratio);\n",
       "        canvas.attr('height', height * mpl.ratio);\n",
       "        canvas.attr('style', 'width: ' + width + 'px; height: ' + height + 'px;');\n",
       "\n",
       "        rubberband.attr('width', width);\n",
       "        rubberband.attr('height', height);\n",
       "    }\n",
       "\n",
       "    // Set the figure to an initial 600x600px, this will subsequently be updated\n",
       "    // upon first draw.\n",
       "    this._resize_canvas(600, 600);\n",
       "\n",
       "    // Disable right mouse context menu.\n",
       "    $(this.rubberband_canvas).bind(\"contextmenu\",function(e){\n",
       "        return false;\n",
       "    });\n",
       "\n",
       "    function set_focus () {\n",
       "        canvas.focus();\n",
       "        canvas_div.focus();\n",
       "    }\n",
       "\n",
       "    window.setTimeout(set_focus, 100);\n",
       "}\n",
       "\n",
       "mpl.figure.prototype._init_toolbar = function() {\n",
       "    var fig = this;\n",
       "\n",
       "    var nav_element = $('<div/>')\n",
       "    nav_element.attr('style', 'width: 100%');\n",
       "    this.root.append(nav_element);\n",
       "\n",
       "    // Define a callback function for later on.\n",
       "    function toolbar_event(event) {\n",
       "        return fig.toolbar_button_onclick(event['data']);\n",
       "    }\n",
       "    function toolbar_mouse_event(event) {\n",
       "        return fig.toolbar_button_onmouseover(event['data']);\n",
       "    }\n",
       "\n",
       "    for(var toolbar_ind in mpl.toolbar_items) {\n",
       "        var name = mpl.toolbar_items[toolbar_ind][0];\n",
       "        var tooltip = mpl.toolbar_items[toolbar_ind][1];\n",
       "        var image = mpl.toolbar_items[toolbar_ind][2];\n",
       "        var method_name = mpl.toolbar_items[toolbar_ind][3];\n",
       "\n",
       "        if (!name) {\n",
       "            // put a spacer in here.\n",
       "            continue;\n",
       "        }\n",
       "        var button = $('<button/>');\n",
       "        button.addClass('ui-button ui-widget ui-state-default ui-corner-all ' +\n",
       "                        'ui-button-icon-only');\n",
       "        button.attr('role', 'button');\n",
       "        button.attr('aria-disabled', 'false');\n",
       "        button.click(method_name, toolbar_event);\n",
       "        button.mouseover(tooltip, toolbar_mouse_event);\n",
       "\n",
       "        var icon_img = $('<span/>');\n",
       "        icon_img.addClass('ui-button-icon-primary ui-icon');\n",
       "        icon_img.addClass(image);\n",
       "        icon_img.addClass('ui-corner-all');\n",
       "\n",
       "        var tooltip_span = $('<span/>');\n",
       "        tooltip_span.addClass('ui-button-text');\n",
       "        tooltip_span.html(tooltip);\n",
       "\n",
       "        button.append(icon_img);\n",
       "        button.append(tooltip_span);\n",
       "\n",
       "        nav_element.append(button);\n",
       "    }\n",
       "\n",
       "    var fmt_picker_span = $('<span/>');\n",
       "\n",
       "    var fmt_picker = $('<select/>');\n",
       "    fmt_picker.addClass('mpl-toolbar-option ui-widget ui-widget-content');\n",
       "    fmt_picker_span.append(fmt_picker);\n",
       "    nav_element.append(fmt_picker_span);\n",
       "    this.format_dropdown = fmt_picker[0];\n",
       "\n",
       "    for (var ind in mpl.extensions) {\n",
       "        var fmt = mpl.extensions[ind];\n",
       "        var option = $(\n",
       "            '<option/>', {selected: fmt === mpl.default_extension}).html(fmt);\n",
       "        fmt_picker.append(option)\n",
       "    }\n",
       "\n",
       "    // Add hover states to the ui-buttons\n",
       "    $( \".ui-button\" ).hover(\n",
       "        function() { $(this).addClass(\"ui-state-hover\");},\n",
       "        function() { $(this).removeClass(\"ui-state-hover\");}\n",
       "    );\n",
       "\n",
       "    var status_bar = $('<span class=\"mpl-message\"/>');\n",
       "    nav_element.append(status_bar);\n",
       "    this.message = status_bar[0];\n",
       "}\n",
       "\n",
       "mpl.figure.prototype.request_resize = function(x_pixels, y_pixels) {\n",
       "    // Request matplotlib to resize the figure. Matplotlib will then trigger a resize in the client,\n",
       "    // which will in turn request a refresh of the image.\n",
       "    this.send_message('resize', {'width': x_pixels, 'height': y_pixels});\n",
       "}\n",
       "\n",
       "mpl.figure.prototype.send_message = function(type, properties) {\n",
       "    properties['type'] = type;\n",
       "    properties['figure_id'] = this.id;\n",
       "    this.ws.send(JSON.stringify(properties));\n",
       "}\n",
       "\n",
       "mpl.figure.prototype.send_draw_message = function() {\n",
       "    if (!this.waiting) {\n",
       "        this.waiting = true;\n",
       "        this.ws.send(JSON.stringify({type: \"draw\", figure_id: this.id}));\n",
       "    }\n",
       "}\n",
       "\n",
       "\n",
       "mpl.figure.prototype.handle_save = function(fig, msg) {\n",
       "    var format_dropdown = fig.format_dropdown;\n",
       "    var format = format_dropdown.options[format_dropdown.selectedIndex].value;\n",
       "    fig.ondownload(fig, format);\n",
       "}\n",
       "\n",
       "\n",
       "mpl.figure.prototype.handle_resize = function(fig, msg) {\n",
       "    var size = msg['size'];\n",
       "    if (size[0] != fig.canvas.width || size[1] != fig.canvas.height) {\n",
       "        fig._resize_canvas(size[0], size[1]);\n",
       "        fig.send_message(\"refresh\", {});\n",
       "    };\n",
       "}\n",
       "\n",
       "mpl.figure.prototype.handle_rubberband = function(fig, msg) {\n",
       "    var x0 = msg['x0'] / mpl.ratio;\n",
       "    var y0 = (fig.canvas.height - msg['y0']) / mpl.ratio;\n",
       "    var x1 = msg['x1'] / mpl.ratio;\n",
       "    var y1 = (fig.canvas.height - msg['y1']) / mpl.ratio;\n",
       "    x0 = Math.floor(x0) + 0.5;\n",
       "    y0 = Math.floor(y0) + 0.5;\n",
       "    x1 = Math.floor(x1) + 0.5;\n",
       "    y1 = Math.floor(y1) + 0.5;\n",
       "    var min_x = Math.min(x0, x1);\n",
       "    var min_y = Math.min(y0, y1);\n",
       "    var width = Math.abs(x1 - x0);\n",
       "    var height = Math.abs(y1 - y0);\n",
       "\n",
       "    fig.rubberband_context.clearRect(\n",
       "        0, 0, fig.canvas.width, fig.canvas.height);\n",
       "\n",
       "    fig.rubberband_context.strokeRect(min_x, min_y, width, height);\n",
       "}\n",
       "\n",
       "mpl.figure.prototype.handle_figure_label = function(fig, msg) {\n",
       "    // Updates the figure title.\n",
       "    fig.header.textContent = msg['label'];\n",
       "}\n",
       "\n",
       "mpl.figure.prototype.handle_cursor = function(fig, msg) {\n",
       "    var cursor = msg['cursor'];\n",
       "    switch(cursor)\n",
       "    {\n",
       "    case 0:\n",
       "        cursor = 'pointer';\n",
       "        break;\n",
       "    case 1:\n",
       "        cursor = 'default';\n",
       "        break;\n",
       "    case 2:\n",
       "        cursor = 'crosshair';\n",
       "        break;\n",
       "    case 3:\n",
       "        cursor = 'move';\n",
       "        break;\n",
       "    }\n",
       "    fig.rubberband_canvas.style.cursor = cursor;\n",
       "}\n",
       "\n",
       "mpl.figure.prototype.handle_message = function(fig, msg) {\n",
       "    fig.message.textContent = msg['message'];\n",
       "}\n",
       "\n",
       "mpl.figure.prototype.handle_draw = function(fig, msg) {\n",
       "    // Request the server to send over a new figure.\n",
       "    fig.send_draw_message();\n",
       "}\n",
       "\n",
       "mpl.figure.prototype.handle_image_mode = function(fig, msg) {\n",
       "    fig.image_mode = msg['mode'];\n",
       "}\n",
       "\n",
       "mpl.figure.prototype.updated_canvas_event = function() {\n",
       "    // Called whenever the canvas gets updated.\n",
       "    this.send_message(\"ack\", {});\n",
       "}\n",
       "\n",
       "// A function to construct a web socket function for onmessage handling.\n",
       "// Called in the figure constructor.\n",
       "mpl.figure.prototype._make_on_message_function = function(fig) {\n",
       "    return function socket_on_message(evt) {\n",
       "        if (evt.data instanceof Blob) {\n",
       "            /* FIXME: We get \"Resource interpreted as Image but\n",
       "             * transferred with MIME type text/plain:\" errors on\n",
       "             * Chrome.  But how to set the MIME type?  It doesn't seem\n",
       "             * to be part of the websocket stream */\n",
       "            evt.data.type = \"image/png\";\n",
       "\n",
       "            /* Free the memory for the previous frames */\n",
       "            if (fig.imageObj.src) {\n",
       "                (window.URL || window.webkitURL).revokeObjectURL(\n",
       "                    fig.imageObj.src);\n",
       "            }\n",
       "\n",
       "            fig.imageObj.src = (window.URL || window.webkitURL).createObjectURL(\n",
       "                evt.data);\n",
       "            fig.updated_canvas_event();\n",
       "            fig.waiting = false;\n",
       "            return;\n",
       "        }\n",
       "        else if (typeof evt.data === 'string' && evt.data.slice(0, 21) == \"data:image/png;base64\") {\n",
       "            fig.imageObj.src = evt.data;\n",
       "            fig.updated_canvas_event();\n",
       "            fig.waiting = false;\n",
       "            return;\n",
       "        }\n",
       "\n",
       "        var msg = JSON.parse(evt.data);\n",
       "        var msg_type = msg['type'];\n",
       "\n",
       "        // Call the  \"handle_{type}\" callback, which takes\n",
       "        // the figure and JSON message as its only arguments.\n",
       "        try {\n",
       "            var callback = fig[\"handle_\" + msg_type];\n",
       "        } catch (e) {\n",
       "            console.log(\"No handler for the '\" + msg_type + \"' message type: \", msg);\n",
       "            return;\n",
       "        }\n",
       "\n",
       "        if (callback) {\n",
       "            try {\n",
       "                // console.log(\"Handling '\" + msg_type + \"' message: \", msg);\n",
       "                callback(fig, msg);\n",
       "            } catch (e) {\n",
       "                console.log(\"Exception inside the 'handler_\" + msg_type + \"' callback:\", e, e.stack, msg);\n",
       "            }\n",
       "        }\n",
       "    };\n",
       "}\n",
       "\n",
       "// from http://stackoverflow.com/questions/1114465/getting-mouse-location-in-canvas\n",
       "mpl.findpos = function(e) {\n",
       "    //this section is from http://www.quirksmode.org/js/events_properties.html\n",
       "    var targ;\n",
       "    if (!e)\n",
       "        e = window.event;\n",
       "    if (e.target)\n",
       "        targ = e.target;\n",
       "    else if (e.srcElement)\n",
       "        targ = e.srcElement;\n",
       "    if (targ.nodeType == 3) // defeat Safari bug\n",
       "        targ = targ.parentNode;\n",
       "\n",
       "    // jQuery normalizes the pageX and pageY\n",
       "    // pageX,Y are the mouse positions relative to the document\n",
       "    // offset() returns the position of the element relative to the document\n",
       "    var x = e.pageX - $(targ).offset().left;\n",
       "    var y = e.pageY - $(targ).offset().top;\n",
       "\n",
       "    return {\"x\": x, \"y\": y};\n",
       "};\n",
       "\n",
       "/*\n",
       " * return a copy of an object with only non-object keys\n",
       " * we need this to avoid circular references\n",
       " * http://stackoverflow.com/a/24161582/3208463\n",
       " */\n",
       "function simpleKeys (original) {\n",
       "  return Object.keys(original).reduce(function (obj, key) {\n",
       "    if (typeof original[key] !== 'object')\n",
       "        obj[key] = original[key]\n",
       "    return obj;\n",
       "  }, {});\n",
       "}\n",
       "\n",
       "mpl.figure.prototype.mouse_event = function(event, name) {\n",
       "    var canvas_pos = mpl.findpos(event)\n",
       "\n",
       "    if (name === 'button_press')\n",
       "    {\n",
       "        this.canvas.focus();\n",
       "        this.canvas_div.focus();\n",
       "    }\n",
       "\n",
       "    var x = canvas_pos.x * mpl.ratio;\n",
       "    var y = canvas_pos.y * mpl.ratio;\n",
       "\n",
       "    this.send_message(name, {x: x, y: y, button: event.button,\n",
       "                             step: event.step,\n",
       "                             guiEvent: simpleKeys(event)});\n",
       "\n",
       "    /* This prevents the web browser from automatically changing to\n",
       "     * the text insertion cursor when the button is pressed.  We want\n",
       "     * to control all of the cursor setting manually through the\n",
       "     * 'cursor' event from matplotlib */\n",
       "    event.preventDefault();\n",
       "    return false;\n",
       "}\n",
       "\n",
       "mpl.figure.prototype._key_event_extra = function(event, name) {\n",
       "    // Handle any extra behaviour associated with a key event\n",
       "}\n",
       "\n",
       "mpl.figure.prototype.key_event = function(event, name) {\n",
       "\n",
       "    // Prevent repeat events\n",
       "    if (name == 'key_press')\n",
       "    {\n",
       "        if (event.which === this._key)\n",
       "            return;\n",
       "        else\n",
       "            this._key = event.which;\n",
       "    }\n",
       "    if (name == 'key_release')\n",
       "        this._key = null;\n",
       "\n",
       "    var value = '';\n",
       "    if (event.ctrlKey && event.which != 17)\n",
       "        value += \"ctrl+\";\n",
       "    if (event.altKey && event.which != 18)\n",
       "        value += \"alt+\";\n",
       "    if (event.shiftKey && event.which != 16)\n",
       "        value += \"shift+\";\n",
       "\n",
       "    value += 'k';\n",
       "    value += event.which.toString();\n",
       "\n",
       "    this._key_event_extra(event, name);\n",
       "\n",
       "    this.send_message(name, {key: value,\n",
       "                             guiEvent: simpleKeys(event)});\n",
       "    return false;\n",
       "}\n",
       "\n",
       "mpl.figure.prototype.toolbar_button_onclick = function(name) {\n",
       "    if (name == 'download') {\n",
       "        this.handle_save(this, null);\n",
       "    } else {\n",
       "        this.send_message(\"toolbar_button\", {name: name});\n",
       "    }\n",
       "};\n",
       "\n",
       "mpl.figure.prototype.toolbar_button_onmouseover = function(tooltip) {\n",
       "    this.message.textContent = tooltip;\n",
       "};\n",
       "mpl.toolbar_items = [[\"Home\", \"Reset original view\", \"fa fa-home icon-home\", \"home\"], [\"Back\", \"Back to  previous view\", \"fa fa-arrow-left icon-arrow-left\", \"back\"], [\"Forward\", \"Forward to next view\", \"fa fa-arrow-right icon-arrow-right\", \"forward\"], [\"\", \"\", \"\", \"\"], [\"Pan\", \"Pan axes with left mouse, zoom with right\", \"fa fa-arrows icon-move\", \"pan\"], [\"Zoom\", \"Zoom to rectangle\", \"fa fa-square-o icon-check-empty\", \"zoom\"], [\"\", \"\", \"\", \"\"], [\"Download\", \"Download plot\", \"fa fa-floppy-o icon-save\", \"download\"]];\n",
       "\n",
       "mpl.extensions = [\"eps\", \"jpeg\", \"pdf\", \"png\", \"ps\", \"raw\", \"svg\", \"tif\"];\n",
       "\n",
       "mpl.default_extension = \"png\";var comm_websocket_adapter = function(comm) {\n",
       "    // Create a \"websocket\"-like object which calls the given IPython comm\n",
       "    // object with the appropriate methods. Currently this is a non binary\n",
       "    // socket, so there is still some room for performance tuning.\n",
       "    var ws = {};\n",
       "\n",
       "    ws.close = function() {\n",
       "        comm.close()\n",
       "    };\n",
       "    ws.send = function(m) {\n",
       "        //console.log('sending', m);\n",
       "        comm.send(m);\n",
       "    };\n",
       "    // Register the callback with on_msg.\n",
       "    comm.on_msg(function(msg) {\n",
       "        //console.log('receiving', msg['content']['data'], msg);\n",
       "        // Pass the mpl event to the overriden (by mpl) onmessage function.\n",
       "        ws.onmessage(msg['content']['data'])\n",
       "    });\n",
       "    return ws;\n",
       "}\n",
       "\n",
       "mpl.mpl_figure_comm = function(comm, msg) {\n",
       "    // This is the function which gets called when the mpl process\n",
       "    // starts-up an IPython Comm through the \"matplotlib\" channel.\n",
       "\n",
       "    var id = msg.content.data.id;\n",
       "    // Get hold of the div created by the display call when the Comm\n",
       "    // socket was opened in Python.\n",
       "    var element = $(\"#\" + id);\n",
       "    var ws_proxy = comm_websocket_adapter(comm)\n",
       "\n",
       "    function ondownload(figure, format) {\n",
       "        window.open(figure.imageObj.src);\n",
       "    }\n",
       "\n",
       "    var fig = new mpl.figure(id, ws_proxy,\n",
       "                           ondownload,\n",
       "                           element.get(0));\n",
       "\n",
       "    // Call onopen now - mpl needs it, as it is assuming we've passed it a real\n",
       "    // web socket which is closed, not our websocket->open comm proxy.\n",
       "    ws_proxy.onopen();\n",
       "\n",
       "    fig.parent_element = element.get(0);\n",
       "    fig.cell_info = mpl.find_output_cell(\"<div id='\" + id + \"'></div>\");\n",
       "    if (!fig.cell_info) {\n",
       "        console.error(\"Failed to find cell for figure\", id, fig);\n",
       "        return;\n",
       "    }\n",
       "\n",
       "    var output_index = fig.cell_info[2]\n",
       "    var cell = fig.cell_info[0];\n",
       "\n",
       "};\n",
       "\n",
       "mpl.figure.prototype.handle_close = function(fig, msg) {\n",
       "    var width = fig.canvas.width/mpl.ratio\n",
       "    fig.root.unbind('remove')\n",
       "\n",
       "    // Update the output cell to use the data from the current canvas.\n",
       "    fig.push_to_output();\n",
       "    var dataURL = fig.canvas.toDataURL();\n",
       "    // Re-enable the keyboard manager in IPython - without this line, in FF,\n",
       "    // the notebook keyboard shortcuts fail.\n",
       "    IPython.keyboard_manager.enable()\n",
       "    $(fig.parent_element).html('<img src=\"' + dataURL + '\" width=\"' + width + '\">');\n",
       "    fig.close_ws(fig, msg);\n",
       "}\n",
       "\n",
       "mpl.figure.prototype.close_ws = function(fig, msg){\n",
       "    fig.send_message('closing', msg);\n",
       "    // fig.ws.close()\n",
       "}\n",
       "\n",
       "mpl.figure.prototype.push_to_output = function(remove_interactive) {\n",
       "    // Turn the data on the canvas into data in the output cell.\n",
       "    var width = this.canvas.width/mpl.ratio\n",
       "    var dataURL = this.canvas.toDataURL();\n",
       "    this.cell_info[1]['text/html'] = '<img src=\"' + dataURL + '\" width=\"' + width + '\">';\n",
       "}\n",
       "\n",
       "mpl.figure.prototype.updated_canvas_event = function() {\n",
       "    // Tell IPython that the notebook contents must change.\n",
       "    IPython.notebook.set_dirty(true);\n",
       "    this.send_message(\"ack\", {});\n",
       "    var fig = this;\n",
       "    // Wait a second, then push the new image to the DOM so\n",
       "    // that it is saved nicely (might be nice to debounce this).\n",
       "    setTimeout(function () { fig.push_to_output() }, 1000);\n",
       "}\n",
       "\n",
       "mpl.figure.prototype._init_toolbar = function() {\n",
       "    var fig = this;\n",
       "\n",
       "    var nav_element = $('<div/>')\n",
       "    nav_element.attr('style', 'width: 100%');\n",
       "    this.root.append(nav_element);\n",
       "\n",
       "    // Define a callback function for later on.\n",
       "    function toolbar_event(event) {\n",
       "        return fig.toolbar_button_onclick(event['data']);\n",
       "    }\n",
       "    function toolbar_mouse_event(event) {\n",
       "        return fig.toolbar_button_onmouseover(event['data']);\n",
       "    }\n",
       "\n",
       "    for(var toolbar_ind in mpl.toolbar_items){\n",
       "        var name = mpl.toolbar_items[toolbar_ind][0];\n",
       "        var tooltip = mpl.toolbar_items[toolbar_ind][1];\n",
       "        var image = mpl.toolbar_items[toolbar_ind][2];\n",
       "        var method_name = mpl.toolbar_items[toolbar_ind][3];\n",
       "\n",
       "        if (!name) { continue; };\n",
       "\n",
       "        var button = $('<button class=\"btn btn-default\" href=\"#\" title=\"' + name + '\"><i class=\"fa ' + image + ' fa-lg\"></i></button>');\n",
       "        button.click(method_name, toolbar_event);\n",
       "        button.mouseover(tooltip, toolbar_mouse_event);\n",
       "        nav_element.append(button);\n",
       "    }\n",
       "\n",
       "    // Add the status bar.\n",
       "    var status_bar = $('<span class=\"mpl-message\" style=\"text-align:right; float: right;\"/>');\n",
       "    nav_element.append(status_bar);\n",
       "    this.message = status_bar[0];\n",
       "\n",
       "    // Add the close button to the window.\n",
       "    var buttongrp = $('<div class=\"btn-group inline pull-right\"></div>');\n",
       "    var button = $('<button class=\"btn btn-mini btn-primary\" href=\"#\" title=\"Stop Interaction\"><i class=\"fa fa-power-off icon-remove icon-large\"></i></button>');\n",
       "    button.click(function (evt) { fig.handle_close(fig, {}); } );\n",
       "    button.mouseover('Stop Interaction', toolbar_mouse_event);\n",
       "    buttongrp.append(button);\n",
       "    var titlebar = this.root.find($('.ui-dialog-titlebar'));\n",
       "    titlebar.prepend(buttongrp);\n",
       "}\n",
       "\n",
       "mpl.figure.prototype._root_extra_style = function(el){\n",
       "    var fig = this\n",
       "    el.on(\"remove\", function(){\n",
       "\tfig.close_ws(fig, {});\n",
       "    });\n",
       "}\n",
       "\n",
       "mpl.figure.prototype._canvas_extra_style = function(el){\n",
       "    // this is important to make the div 'focusable\n",
       "    el.attr('tabindex', 0)\n",
       "    // reach out to IPython and tell the keyboard manager to turn it's self\n",
       "    // off when our div gets focus\n",
       "\n",
       "    // location in version 3\n",
       "    if (IPython.notebook.keyboard_manager) {\n",
       "        IPython.notebook.keyboard_manager.register_events(el);\n",
       "    }\n",
       "    else {\n",
       "        // location in version 2\n",
       "        IPython.keyboard_manager.register_events(el);\n",
       "    }\n",
       "\n",
       "}\n",
       "\n",
       "mpl.figure.prototype._key_event_extra = function(event, name) {\n",
       "    var manager = IPython.notebook.keyboard_manager;\n",
       "    if (!manager)\n",
       "        manager = IPython.keyboard_manager;\n",
       "\n",
       "    // Check for shift+enter\n",
       "    if (event.shiftKey && event.which == 13) {\n",
       "        this.canvas_div.blur();\n",
       "        // select the cell after this one\n",
       "        var index = IPython.notebook.find_cell_index(this.cell_info[0]);\n",
       "        IPython.notebook.select(index + 1);\n",
       "    }\n",
       "}\n",
       "\n",
       "mpl.figure.prototype.handle_save = function(fig, msg) {\n",
       "    fig.ondownload(fig, null);\n",
       "}\n",
       "\n",
       "\n",
       "mpl.find_output_cell = function(html_output) {\n",
       "    // Return the cell and output element which can be found *uniquely* in the notebook.\n",
       "    // Note - this is a bit hacky, but it is done because the \"notebook_saving.Notebook\"\n",
       "    // IPython event is triggered only after the cells have been serialised, which for\n",
       "    // our purposes (turning an active figure into a static one), is too late.\n",
       "    var cells = IPython.notebook.get_cells();\n",
       "    var ncells = cells.length;\n",
       "    for (var i=0; i<ncells; i++) {\n",
       "        var cell = cells[i];\n",
       "        if (cell.cell_type === 'code'){\n",
       "            for (var j=0; j<cell.output_area.outputs.length; j++) {\n",
       "                var data = cell.output_area.outputs[j];\n",
       "                if (data.data) {\n",
       "                    // IPython >= 3 moved mimebundle to data attribute of output\n",
       "                    data = data.data;\n",
       "                }\n",
       "                if (data['text/html'] == html_output) {\n",
       "                    return [cell, data, j];\n",
       "                }\n",
       "            }\n",
       "        }\n",
       "    }\n",
       "}\n",
       "\n",
       "// Register the function which deals with the matplotlib target/channel.\n",
       "// The kernel may be null if the page has been refreshed.\n",
       "if (IPython.notebook.kernel != null) {\n",
       "    IPython.notebook.kernel.comm_manager.register_target('matplotlib', mpl.mpl_figure_comm);\n",
       "}\n"
      ],
      "text/plain": [
       "<IPython.core.display.Javascript object>"
      ]
     },
     "metadata": {},
     "output_type": "display_data"
    },
    {
     "data": {
      "text/html": [
       "<img src=\"data:image/png;base64,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\" width=\"1200\">"
      ],
      "text/plain": [
       "<IPython.core.display.HTML object>"
      ]
     },
     "metadata": {},
     "output_type": "display_data"
    },
    {
     "data": {
      "text/plain": [
       "[<matplotlib.lines.Line2D at 0x14034a3c8>]"
      ]
     },
     "execution_count": 81,
     "metadata": {},
     "output_type": "execute_result"
    }
   ],
   "source": [
    "%matplotlib notebook\n",
    "\n",
    "pl.plot(x, y)"
   ]
  },
  {
   "cell_type": "code",
   "execution_count": null,
   "metadata": {
    "collapsed": true
   },
   "outputs": [],
   "source": []
  }
 ],
 "metadata": {
  "anaconda-cloud": {},
  "kernelspec": {
   "display_name": "Python 3",
   "language": "python",
   "name": "python3"
  },
  "language_info": {
   "codemirror_mode": {
    "name": "ipython",
    "version": 3
   },
   "file_extension": ".py",
   "mimetype": "text/x-python",
   "name": "python",
   "nbconvert_exporter": "python",
   "pygments_lexer": "ipython3",
   "version": "3.6.2"
  }
 },
 "nbformat": 4,
 "nbformat_minor": 1
}
