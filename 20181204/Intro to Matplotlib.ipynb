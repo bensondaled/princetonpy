{
 "cells": [
  {
   "cell_type": "code",
   "execution_count": null,
   "metadata": {
    "collapsed": true
   },
   "outputs": [],
   "source": [
    "import matplotlib.pyplot as pl\n",
    "pl.style.use('default')"
   ]
  },
  {
   "cell_type": "markdown",
   "metadata": {},
   "source": [
    "## Plotting in python with `matplotlib`\n",
    "\n",
    "There are a number of excellent plotting libraries for Python, including `matplotlib`, `seaborn`, `plotly`, `bokeh`, `mayavi`, and more. Some of these packages use each other, and they each specialize in some particular component of plotting (for example, interactive plots for websites).\n",
    "\n",
    "That said, `matplotlib` is by far the most mature, popular, and recommended plotting library for the majority of your needs. It empowers you to produce just about any data visualization you can imagine, and you can use it to produce publication-quality figures. To get inspired, I encourage you to scroll through <a href=\"http://matplotlib.org/gallery.html\"> these examples</a> that demonstrate the extent of `matplotlib`'s capabilities.\n",
    "\n",
    "In this lesson, we will learn `matplotlib` basics from the ground up, giving you an introduction on how to use this package to make figures. For this tutorial, I will assume that you are already familiar with some Python, including the basics of the numerical computing package NumPy."
   ]
  },
  {
   "cell_type": "markdown",
   "metadata": {},
   "source": [
    "---\n",
    "\n",
    "### A quick note on data formats\n",
    "\n",
    "Because this session focuses on plotting data, I will not extensively cover the highly related topic of data formats. \n",
    "\n",
    "For this reason, the example data I use will consist of very simple `numpy` arrays: the most common way to store scientific data in Python.\n",
    "\n",
    "Most of your data, whether it is stored in CSV files, MATLAB files, image files (tif, etc.), json, HDF5, or anything else, can easily be imported into Python and specifically into `numpy` arrays.\n",
    "\n",
    "For now, let's generate some data to play with:"
   ]
  },
  {
   "cell_type": "code",
   "execution_count": null,
   "metadata": {
    "collapsed": true
   },
   "outputs": [],
   "source": [
    "import numpy as np\n",
    "\n",
    "x = np.arange(0, 10, 0.05) # uniform array of real values from 0 to 10\n",
    "y = np.sin(6*x) + np.sin(3*(x-0.5)) # a sum of two sinusoids, as an example dataset"
   ]
  },
  {
   "cell_type": "markdown",
   "metadata": {},
   "source": [
    "---\n",
    "\n",
    "### Basic plotting\n",
    "\n",
    "To begin, let's import the module that contains most of our plotting needs: `pyplot`.\n",
    "\n",
    "*Note: it is very common for people to import pyplot as `plt`; my use of `pl` is just a personal preference.*"
   ]
  },
  {
   "cell_type": "code",
   "execution_count": null,
   "metadata": {
    "collapsed": true
   },
   "outputs": [],
   "source": [
    "import matplotlib.pyplot as pl"
   ]
  },
  {
   "cell_type": "code",
   "execution_count": null,
   "metadata": {
    "collapsed": true
   },
   "outputs": [],
   "source": [
    "# create a figure and axes on which to plot data\n",
    "\n",
    "fig,ax = pl.subplots(figsize=(6,7))"
   ]
  },
  {
   "cell_type": "code",
   "execution_count": null,
   "metadata": {
    "collapsed": true,
    "scrolled": true
   },
   "outputs": [],
   "source": [
    "# plot the data onto the axes called \"ax\"\n",
    "\n",
    "ax.plot(x, y)"
   ]
  },
  {
   "cell_type": "code",
   "execution_count": null,
   "metadata": {
    "collapsed": true
   },
   "outputs": [],
   "source": [
    "# set axis labels and title\n",
    "ax.set_xlabel('Time (sec.)', fontsize='large')\n",
    "ax.set_ylabel('Amplitude', fontsize=10, labelpad=1)\n",
    "ax.set_title('My Fake Data')"
   ]
  },
  {
   "cell_type": "code",
   "execution_count": null,
   "metadata": {
    "collapsed": true
   },
   "outputs": [],
   "source": [
    "# plot additional lines\n",
    "ax.plot(x+.5, y*2)\n",
    "ax.plot(x+1., y/3)"
   ]
  },
  {
   "cell_type": "code",
   "execution_count": null,
   "metadata": {
    "collapsed": true
   },
   "outputs": [],
   "source": [
    "# clear the axes\n",
    "ax.clear()"
   ]
  },
  {
   "cell_type": "markdown",
   "metadata": {},
   "source": [
    "For simple formatting options, this shortcut exists:"
   ]
  },
  {
   "cell_type": "code",
   "execution_count": null,
   "metadata": {
    "collapsed": true
   },
   "outputs": [],
   "source": [
    "ax.plot(x, y, 'bo-')"
   ]
  },
  {
   "cell_type": "code",
   "execution_count": null,
   "metadata": {
    "collapsed": true
   },
   "outputs": [],
   "source": [
    "ax.plot(x, -y, 'rx--')"
   ]
  },
  {
   "cell_type": "markdown",
   "metadata": {},
   "source": [
    "For more complex formatting:"
   ]
  },
  {
   "cell_type": "code",
   "execution_count": null,
   "metadata": {
    "collapsed": true
   },
   "outputs": [],
   "source": [
    "ax.clear()\n",
    "\n",
    "ax.plot(x, y, \n",
    "        color='slateblue', \n",
    "        marker='p', \n",
    "        linewidth=3, \n",
    "        markersize=10,\n",
    "        markeredgewidth=2, \n",
    "        markeredgecolor='black',\n",
    "        markerfacecolor='moccasin',\n",
    "        linestyle='dashdot')"
   ]
  },
  {
   "cell_type": "markdown",
   "metadata": {},
   "source": [
    "A large number of plot styles are available:"
   ]
  },
  {
   "cell_type": "code",
   "execution_count": null,
   "metadata": {
    "collapsed": true
   },
   "outputs": [],
   "source": [
    "# scatter plot\n",
    "\n",
    "ax.clear()\n",
    "\n",
    "ax.scatter(x, y, s=(y+5)**2, c=x)\n",
    "\n",
    "# s specifies marker sizes for each point\n",
    "# c specifies marker colors for each point"
   ]
  },
  {
   "cell_type": "code",
   "execution_count": null,
   "metadata": {
    "collapsed": true
   },
   "outputs": [],
   "source": [
    "# histogram\n",
    "\n",
    "ax.clear()\n",
    "\n",
    "pl.hist(y, bins=12, edgecolor='k')"
   ]
  },
  {
   "cell_type": "code",
   "execution_count": null,
   "metadata": {
    "collapsed": true
   },
   "outputs": [],
   "source": [
    "# bar chart\n",
    "\n",
    "ax.clear()\n",
    "\n",
    "xs = np.array([0, 1, 2, 3])\n",
    "y1 = [.5, .6, .2, .3]\n",
    "y2 = [.1, .2, .4, .35]\n",
    "y3 = [.3, .1, .6, .2]\n",
    "\n",
    "ax.bar(xs, y1, width=0.2, color='powderblue')\n",
    "ax.bar(xs+.2, y2, width=0.2, color='cadetblue')\n",
    "ax.bar(xs+.4, y3, width=0.2, color='seagreen')"
   ]
  },
  {
   "cell_type": "code",
   "execution_count": null,
   "metadata": {
    "collapsed": true
   },
   "outputs": [],
   "source": [
    "# box plot\n",
    "\n",
    "ax.clear()\n",
    "\n",
    "group_1 = np.random.normal(0, 1, size=5000)\n",
    "group_2 = np.random.normal(2, 1, size=5000)\n",
    "group_3 = np.random.normal(0, 4, size=5000)\n",
    "group_4 = np.random.normal(-1, 3, size=5000)\n",
    "\n",
    "ax.boxplot([group_1, group_2, group_3, group_4])"
   ]
  },
  {
   "cell_type": "code",
   "execution_count": null,
   "metadata": {
    "collapsed": true
   },
   "outputs": [],
   "source": [
    "# error bars\n",
    "\n",
    "ax.clear()\n",
    "\n",
    "x1 = x[:100]\n",
    "y1 = y[:100]\n",
    "\n",
    "ax.errorbar(x1, y1, yerr=x1/20, xerr=y1/10, color='k', marker='o', ecolor='goldenrod')"
   ]
  },
  {
   "cell_type": "code",
   "execution_count": null,
   "metadata": {
    "collapsed": true
   },
   "outputs": [],
   "source": [
    "# quiver plot\n",
    "\n",
    "ax.clear()\n",
    "\n",
    "xpos, ypos = np.meshgrid(np.arange(0, np.pi, .3), np.arange(0, 2*np.pi, .3))\n",
    "x_comp = np.cos(xpos)\n",
    "y_comp = np.sin(ypos)\n",
    "\n",
    "ax.quiver(xpos, ypos, x_comp, y_comp)"
   ]
  },
  {
   "cell_type": "code",
   "execution_count": null,
   "metadata": {
    "collapsed": true
   },
   "outputs": [],
   "source": [
    "# fill between\n",
    "\n",
    "ax.clear()\n",
    "\n",
    "ax.plot(x, y, color='k', linewidth=3)\n",
    "\n",
    "yerror = np.random.uniform(.6, .9, size=y.shape)\n",
    "\n",
    "ax.fill_between(x, y+yerror, y-yerror, color='powderblue', alpha=.8)"
   ]
  },
  {
   "cell_type": "markdown",
   "metadata": {},
   "source": [
    "Now that we've seen some of the plot styles available, let's consider how we would customize a given plot, using our original example as a template."
   ]
  },
  {
   "cell_type": "code",
   "execution_count": null,
   "metadata": {
    "collapsed": true
   },
   "outputs": [],
   "source": [
    "ax.clear()\n",
    "\n",
    "ax.plot(x, y, color='grey')\n",
    "\n",
    "ax.set_xlabel('Time (sec.)', fontsize='large', weight='bold')\n",
    "ax.set_ylabel('Amplitude', fontsize='large', style='italic')\n",
    "ax.set_title('My Fake Data', fontsize='x-large')"
   ]
  },
  {
   "cell_type": "code",
   "execution_count": null,
   "metadata": {
    "collapsed": true
   },
   "outputs": [],
   "source": [
    "ax.set_xlim(0,4)\n",
    "\n",
    "ax.set_ylim(-.5,1.8)"
   ]
  },
  {
   "cell_type": "code",
   "execution_count": null,
   "metadata": {
    "collapsed": true
   },
   "outputs": [],
   "source": [
    "ax.axis([0, 1.6, -0.5, 1.6])"
   ]
  },
  {
   "cell_type": "code",
   "execution_count": null,
   "metadata": {
    "collapsed": true
   },
   "outputs": [],
   "source": [
    "ax.set_xticks( np.arange(0,4,0.7))\n",
    "\n",
    "ax.set_yticks( [0, .5, 1.] )\n",
    "ax.set_yticklabels(['low','medium','high'], rotation=30 )"
   ]
  },
  {
   "cell_type": "code",
   "execution_count": null,
   "metadata": {
    "collapsed": true
   },
   "outputs": [],
   "source": [
    "fig.tight_layout() # squeeze everything into the figure in a non-overlapping way"
   ]
  },
  {
   "cell_type": "markdown",
   "metadata": {},
   "source": [
    "What if you want to label each line, and show the labels in a legend?"
   ]
  },
  {
   "cell_type": "code",
   "execution_count": null,
   "metadata": {
    "collapsed": true
   },
   "outputs": [],
   "source": [
    "ax.clear()\n",
    "\n",
    "ax.plot(x, y, color='black', label='my black data')\n",
    "ax.plot(x, y/2, color='cyan', label='my cyan data')\n",
    "ax.plot(x, -y, color='pink', label='my pink data')\n",
    "\n",
    "ax.legend()"
   ]
  },
  {
   "cell_type": "markdown",
   "metadata": {},
   "source": [
    "The previous example showed one way to plots multiple lines of data. But what if you have a large amount of structured data to plot?\n",
    "\n",
    "One option would be to plot the individual lines using a loop, and that can sometimes be the best option. But another option exists:"
   ]
  },
  {
   "cell_type": "code",
   "execution_count": null,
   "metadata": {
    "collapsed": true
   },
   "outputs": [],
   "source": [
    "ax.clear()\n",
    "\n",
    "# create a matrix with multiple transformations of y\n",
    "y_many = np.array([ y,\n",
    "                    y+2,\n",
    "                    y*2,\n",
    "                    -y ])\n",
    "\n",
    "# the way we created it, the default shape has timepoints along the columns\n",
    "print('Original shape:', y_many.shape)\n",
    "\n",
    "# matplotlib wants a matrix where timepoints are in the rows; i.e. for every entry in x, there is a *row* in y\n",
    "# to achieve this, we can simply transpose the matrix\n",
    "y_many = y_many.T\n",
    "print('New shape:', y_many.shape)\n",
    "\n",
    "# we can now plot multiple lines at once\n",
    "ax.plot(x, y_many)"
   ]
  },
  {
   "cell_type": "markdown",
   "metadata": {},
   "source": [
    "Speaking of plotting multiple data lines at once: sometimes you want to plot multiple lines of data on top of one another, but they have different magnitudes of values. Later we will learn a more advanced view of `matplotlib` that allows this to arbitrary levels of complexity. \n",
    "\n",
    "But, there is a simple shortcut for the case of plotting data with 2 distinct y axes:"
   ]
  },
  {
   "cell_type": "code",
   "execution_count": null,
   "metadata": {
    "collapsed": true
   },
   "outputs": [],
   "source": [
    "ax.clear()\n",
    "\n",
    "ax.plot(x, y, color='violet')\n",
    "ax.set_ylabel('My Original Data', color='violet')\n",
    "\n",
    "ax2 = ax.twinx()\n",
    "\n",
    "ax2.plot(x, -y*1000, color='red')\n",
    "ax2.set_ylabel('My Larger Data', color='red')\n",
    "\n",
    "fig.tight_layout()"
   ]
  },
  {
   "cell_type": "markdown",
   "metadata": {},
   "source": [
    "### Saving a figure\n",
    "\n",
    "`matplotlib` is able to save plots to many different image formats. To save a figure:"
   ]
  },
  {
   "cell_type": "code",
   "execution_count": null,
   "metadata": {
    "collapsed": true
   },
   "outputs": [],
   "source": [
    "fig.savefig('my_figure.png')\n",
    "\n",
    "pl.close(fig)"
   ]
  },
  {
   "cell_type": "markdown",
   "metadata": {},
   "source": [
    "Available formats include png, jpg, pdf, eps, svg, ps (the latter 4 are compatible with vector editing software such as Adobe Illustrator)."
   ]
  },
  {
   "cell_type": "markdown",
   "metadata": {},
   "source": [
    "### Images"
   ]
  },
  {
   "cell_type": "markdown",
   "metadata": {},
   "source": [
    "There's lots more you can do with data plotting, but let's now take a brief look at the image functionality available in `matplotlib`.\n",
    "\n",
    "Recall that an image is no more than a matrix of values. `matplotlib` offers a variety of ways to visualize matrices, and thus to show images."
   ]
  },
  {
   "cell_type": "code",
   "execution_count": null,
   "metadata": {
    "collapsed": true
   },
   "outputs": [],
   "source": [
    "apple = pl.imread('apple.png')\n",
    "\n",
    "fig,ax = pl.subplots(figsize=(6,7))\n",
    "cax = ax.imshow(apple)\n",
    "fig.colorbar(cax)"
   ]
  },
  {
   "cell_type": "markdown",
   "metadata": {},
   "source": [
    "When an image has only one channel, it is often assumed to be greyscale. In `matplotlib`, the default behaviour is to show the image with a standard colormap, which maps values to a range of colours.\n",
    "\n",
    "To see all of `matplotlib`'s colormaps, see <a href=\"http://matplotlib.org/examples/color/colormaps_reference.html\">this page.</a>"
   ]
  },
  {
   "cell_type": "code",
   "execution_count": null,
   "metadata": {
    "collapsed": true
   },
   "outputs": [],
   "source": [
    "fig.clear()\n",
    "ax = fig.add_axes([.1, .1, .8, .8])\n",
    "\n",
    "cax = ax.imshow(apple, cmap=pl.cm.Greys_r)\n",
    "fig.colorbar(cax)"
   ]
  },
  {
   "cell_type": "code",
   "execution_count": null,
   "metadata": {
    "collapsed": true
   },
   "outputs": [],
   "source": [
    "fig.clear()\n",
    "ax = fig.add_axes([.1, .1, .8, .8])\n",
    "\n",
    "cax = ax.imshow(apple, cmap=pl.cm.jet)\n",
    "fig.colorbar(cax)"
   ]
  },
  {
   "cell_type": "code",
   "execution_count": null,
   "metadata": {
    "collapsed": true
   },
   "outputs": [],
   "source": [
    "fig.clear()\n",
    "ax = fig.add_axes([.1, .1, .8, .8])\n",
    "\n",
    "cax = ax.imshow(apple, cmap=pl.cm.Reds_r)\n",
    "fig.colorbar(cax)"
   ]
  },
  {
   "cell_type": "code",
   "execution_count": null,
   "metadata": {
    "collapsed": true
   },
   "outputs": [],
   "source": [
    "fig.clear()\n",
    "ax = fig.add_axes([.1, .1, .8, .8])\n",
    "\n",
    "cax = ax.imshow(apple, cmap=pl.cm.Greens_r)\n",
    "fig.colorbar(cax)"
   ]
  },
  {
   "cell_type": "markdown",
   "metadata": {},
   "source": [
    "By default, `matplotlib` will map the full range of values in your image matrix to a colormap. However, you can easily specify any range of your choosing to be mapped. For example, here we will inspect the minimum and maximum value of our image, then tell `imshow` to map only a small range thereof onto the colormap."
   ]
  },
  {
   "cell_type": "code",
   "execution_count": null,
   "metadata": {
    "collapsed": true
   },
   "outputs": [],
   "source": [
    "print( apple.min() )\n",
    "print( apple.max() )"
   ]
  },
  {
   "cell_type": "code",
   "execution_count": null,
   "metadata": {
    "collapsed": true
   },
   "outputs": [],
   "source": [
    "fig.clear()\n",
    "ax = fig.add_axes([.1, .1, .8, .8])\n",
    "\n",
    "cax = ax.imshow(apple, cmap=pl.cm.Greens_r, vmin=0.85, vmax=0.9)\n",
    "fig.colorbar(cax)"
   ]
  },
  {
   "cell_type": "markdown",
   "metadata": {},
   "source": [
    "You can use `imshow` to display any data stored in 2D matrices. But, that function was made specifically for images. There is another function, `pcolormesh`, intended specifically for generating pseudocolour plots. Here we will generate some fake data and display it using a pseudocolour plot."
   ]
  },
  {
   "cell_type": "code",
   "execution_count": null,
   "metadata": {
    "collapsed": true
   },
   "outputs": [],
   "source": [
    "fig.clear()\n",
    "ax = fig.add_axes([.1, .1, .8, .8])\n",
    "\n",
    "# generate some fake data in a 2D matrix, where:\n",
    "# the x coordinate will represent time\n",
    "# the y coordinate will represent individual measured subjects (ex. cells)\n",
    "# the value of each entry will represent the magnitude of the signal (ex. fluorescence)\n",
    "impulse = np.random.choice([0,1], size=[50,1000], p=[.98,.02])\n",
    "kernel = np.exp(-5*np.arange(0,1,0.05))\n",
    "data = np.array([np.convolve(i,kernel) for i in impulse])\n",
    "\n",
    "# show the data using a pseudocolour plot\n",
    "pax = ax.pcolormesh(data)\n",
    "ax.set_xlabel('Time (secs)')\n",
    "ax.set_ylabel('Cells')\n",
    "fig.colorbar(pax, label='Fluorescence')"
   ]
  },
  {
   "cell_type": "markdown",
   "metadata": {},
   "source": [
    "---\n",
    "\n",
    "On the topic of colours: `matplotlib` offers a variety of ways to specify colours.\n",
    "\n",
    "First, there is a large set of <a href=\"http://matplotlib.org/examples/color/named_colors.html\">named colours available</a>.\n",
    "\n",
    "More generally, you can specify any colour by supplying a list of RGBA (red, blue, green, alpha=transparency) values ranging from 0-1, such as (0.1, 0.5, 0.2, 1).\n",
    "\n",
    "You can also specify colours using hex values, such as '#AB4E12'."
   ]
  },
  {
   "cell_type": "code",
   "execution_count": null,
   "metadata": {
    "collapsed": true
   },
   "outputs": [],
   "source": [
    "fig.clear()\n",
    "ax = fig.add_axes([.1, .1, .8, .8])\n",
    "\n",
    "ax.plot(x, y, color='mediumspringgreen')\n",
    "\n",
    "ax.plot(x, y+5, color=[.1, .2, .3, 1])\n",
    "\n",
    "ax.plot(x, y+10, color='#AB4E12')"
   ]
  },
  {
   "cell_type": "markdown",
   "metadata": {},
   "source": [
    "If you identify a colormap you like, and want to use its colors manually, you can extract them easily. Think of the colormap as ranging from 0-1, and just specify the locations you want:"
   ]
  },
  {
   "cell_type": "code",
   "execution_count": null,
   "metadata": {
    "collapsed": true
   },
   "outputs": [],
   "source": [
    "ax.clear()\n",
    "\n",
    "values = [0, 0.1, 0.5, 0.6, 0.7, 1]\n",
    "cmap = pl.cm.jet\n",
    "\n",
    "colors = cmap(values)\n",
    "\n",
    "for idx,c in enumerate(colors):\n",
    "    ax.plot(x, y+idx, color=c)"
   ]
  },
  {
   "cell_type": "code",
   "execution_count": null,
   "metadata": {
    "collapsed": true
   },
   "outputs": [],
   "source": [
    "pl.close(fig)"
   ]
  },
  {
   "cell_type": "markdown",
   "metadata": {},
   "source": [
    "## The next level: `matplotlib` objects\n",
    "\n",
    "We have now covered the bare basics of plotting, and with that knowledge alone, you should be able to plot data and create some nice figures.\n",
    "\n",
    "However, `matplotlib` offers much deeper control of your plots, visualizations, and figures. To understand this functionality, we need to learn a bit about the objects `matplotlib` uses to manipulate figures and data.\n",
    "\n",
    "### Figures\n",
    "\n",
    "Think of a `Figure` as the entire window that pops up when you plot something. The `Figure` object is the interface through which you zoom and pan in your plots, save out your plots to files, and open and close windows containing plots."
   ]
  },
  {
   "cell_type": "code",
   "execution_count": null,
   "metadata": {
    "collapsed": true
   },
   "outputs": [],
   "source": [
    "fig_1 = pl.figure('My First Figure', figsize=[8,3], facecolor='grey')\n",
    "\n",
    "fig_2 = pl.figure('My Second Figure', figsize=[3,6], facecolor='white')"
   ]
  },
  {
   "cell_type": "code",
   "execution_count": null,
   "metadata": {
    "collapsed": true
   },
   "outputs": [],
   "source": [
    "fig_1.savefig('my_empty_fig1.png')\n",
    "\n",
    "pl.close('all')"
   ]
  },
  {
   "cell_type": "markdown",
   "metadata": {},
   "source": [
    "### Axes\n",
    "\n",
    "Whereas `Figure` objects control the high-level features of your plot windows, `Axes` objects do the bulk of your important work.\n",
    "\n",
    "Every `Axes` object lives inside a `Figure`, and many `Axes` can exist within a single `Figure`.\n",
    "\n",
    "An `Axes` object, as the name implies, is a set of (usually) x-y axes that handles the plotting and display of your data points.\n",
    "\n",
    "If you choose to construct an `Axes` object explicitly (which you will not often do), `matplotlib` will automatically place it into a `Figure`, because all `Axes` exist inside `Figure`s. In this case, supply the `Axes` constructor with 4 points, specifying the left, bottom, width, and height of the `Axes` within the `Figure`, where (0,0) represents the bottom left of the `Figure`, and (1,1) represents the top right."
   ]
  },
  {
   "cell_type": "code",
   "execution_count": null,
   "metadata": {
    "collapsed": true
   },
   "outputs": [],
   "source": [
    "ax_1 = pl.axes([0.1, 0.1, 0.5, 0.3]) # left, bottom, width, height"
   ]
  },
  {
   "cell_type": "markdown",
   "metadata": {},
   "source": [
    "Once you have an `Axes` object, you can access a handle to its parent `Figure`:"
   ]
  },
  {
   "cell_type": "code",
   "execution_count": null,
   "metadata": {
    "collapsed": true
   },
   "outputs": [],
   "source": [
    "fig = ax_1.figure"
   ]
  },
  {
   "cell_type": "markdown",
   "metadata": {},
   "source": [
    "It is possible to create multiple `Axes` and place them all onto a `Figure`, and that can be a good approach for very custom applications. However, in a moment we will discuss layout features in `matplotlib`, which are a good alternative to this manual approach."
   ]
  },
  {
   "cell_type": "markdown",
   "metadata": {},
   "source": [
    "---\n",
    "\n",
    "### Layouts"
   ]
  },
  {
   "cell_type": "markdown",
   "metadata": {},
   "source": [
    "In practice, rather than explicitly specifying where to place your `Axes`, it is often more convenient to use some of `matplotlib`'s special functions for doing so.\n",
    "\n",
    "For example, you can use the `subplot` function to build a grid of `Axes` arranged into rectangles.\n",
    "\n",
    "The syntax is: `pl.subplot(<# of rows><# of columns><subplot index to select now>)`"
   ]
  },
  {
   "cell_type": "code",
   "execution_count": null,
   "metadata": {
    "collapsed": true
   },
   "outputs": [],
   "source": [
    "pl.clf()\n",
    "\n",
    "pl.subplot(241) # note that the first subplot is index *1*; this is an exception to conform with MATLAB conventions\n",
    "pl.plot(x, y, color='red')\n",
    "\n",
    "pl.subplot(242)\n",
    "pl.plot(x, y, color='orange')\n",
    "\n",
    "pl.subplot(243)\n",
    "pl.plot(x, y, color='yellow')\n",
    "\n",
    "pl.subplot(244)\n",
    "pl.plot(x, y, color='green')\n",
    "\n",
    "pl.subplot(245)\n",
    "pl.plot(x, y, color='blue')\n",
    "\n",
    "pl.subplot(246)\n",
    "pl.plot(x, y, color='indigo')\n",
    "\n",
    "pl.subplot(2,4,7) # note that you can also specify it with commas\n",
    "pl.plot(x, y, color='violet')"
   ]
  },
  {
   "cell_type": "markdown",
   "metadata": {},
   "source": [
    "The `subplot` function can be useful for quick, easy arrangements, but it does not take full advantage of the subplotting options available.\n",
    "\n",
    "Let's consider another function, called `subplots`. The goal of `subplots` is to lay out a pre-specified grid of subplots, and then to give you access to each one individually for further actions."
   ]
  },
  {
   "cell_type": "code",
   "execution_count": null,
   "metadata": {
    "collapsed": true
   },
   "outputs": [],
   "source": [
    "pl.close()\n",
    "\n",
    "fig, axs = pl.subplots(3, 2, sharex=True, sharey='row')"
   ]
  },
  {
   "cell_type": "markdown",
   "metadata": {},
   "source": [
    "The above command accomplished a lot. First, it laid out a grid of 3 rows and 2 columns of `Axes` to be used for plotting. In this case, we specified that the x axes of all `Axes` should be synchronized, and the y axes of each row of `Axes` should be synchronized. We will see the consequence of that in a moment.\n",
    "\n",
    "Importantly, note what the function returned to us:\n",
    "<ul>\n",
    "<li>`fig`: the `Figure` object holding all of our new `Axes` objects</li>\n",
    "<li>`axs`: an array of all our new `Axes` objects</li>\n",
    "</ul>\n",
    "\n",
    "Let's inspect `axs`:"
   ]
  },
  {
   "cell_type": "code",
   "execution_count": null,
   "metadata": {
    "collapsed": true
   },
   "outputs": [],
   "source": [
    "print( 'The axs object has shape', axs.shape )\n",
    "\n",
    "print( 'The first item in axs is:', axs[0,0] )\n",
    "\n",
    "print( 'The last item in axs is:', axs[-1,-1] )"
   ]
  },
  {
   "cell_type": "markdown",
   "metadata": {},
   "source": [
    "The `axs` variable is 3x2 array, meaning it is shaped just like the physical layout of our `Axes` within the figure.\n",
    "\n",
    "Each element in the array is an `Axes` object. Why would we want access to this object?"
   ]
  },
  {
   "cell_type": "code",
   "execution_count": null,
   "metadata": {
    "collapsed": true
   },
   "outputs": [],
   "source": [
    "ax = axs[2,0]\n",
    "\n",
    "ax.plot(x, y, linewidth=5)\n",
    "ax.set_ylabel('My y label')\n",
    "ax.set_title('My title')"
   ]
  },
  {
   "cell_type": "code",
   "execution_count": null,
   "metadata": {
    "collapsed": true
   },
   "outputs": [],
   "source": [
    "ax.clear()"
   ]
  },
  {
   "cell_type": "markdown",
   "metadata": {},
   "source": [
    "Controlling `Axes` objects directly is a more powerful approach than our previous one. To get a sense for why that is, consider this block of code:"
   ]
  },
  {
   "cell_type": "code",
   "execution_count": null,
   "metadata": {
    "collapsed": true
   },
   "outputs": [],
   "source": [
    "# define 3 colours, one for each row\n",
    "colors = ['red', 'blue', 'tan']\n",
    "\n",
    "# define 2 line widths, one for each column\n",
    "linewidths = [2, 5]\n",
    "\n",
    "# iterate each row\n",
    "for row_idx in range(axs.shape[0]):\n",
    "   \n",
    "    # iterate through each column in this row\n",
    "    for col_idx in range(axs.shape[1]):\n",
    "        \n",
    "        # retrieve the Axes object at this row-column coordinate\n",
    "        ax = axs[row_idx, col_idx]\n",
    "        \n",
    "        # plot the data using the parameters for this particular location\n",
    "        ax.plot(x, y, color=colors[row_idx], linewidth=linewidths[col_idx])\n",
    "        ax.set_title('I am in row {}, column {}'.format(row_idx, col_idx))"
   ]
  },
  {
   "cell_type": "markdown",
   "metadata": {},
   "source": [
    "The most powerful way to build and customize your plots is to use a scheme like the one shown above.\n",
    "\n",
    "---\n",
    "\n",
    "For many applications, you might want a more complex layout of subplots. Of course, you can always position the subplots as you wish by defining coordinates of `Axes` objects, but `matplotlib` offers another tool for adding a layer of complexity to the layout."
   ]
  },
  {
   "cell_type": "code",
   "execution_count": null,
   "metadata": {
    "collapsed": true
   },
   "outputs": [],
   "source": [
    "from matplotlib.gridspec import GridSpec\n",
    "\n",
    "rows = 2\n",
    "columns = 4\n",
    "\n",
    "gs = GridSpec(nrows=rows, \n",
    "              ncols=columns, \n",
    "              left=0.1, \n",
    "              bottom=0.2, \n",
    "              right=0.9, \n",
    "              top=0.7, \n",
    "              wspace=0.01, \n",
    "              hspace=0.1, \n",
    "              width_ratios=[1,3,1,1],\n",
    "              height_ratios=[1,2])\n",
    "\n",
    "fig = pl.figure('My GridSpec Example #1')\n",
    "\n",
    "for row in range(rows):\n",
    "    for col in range(columns):\n",
    "        ax = fig.add_subplot(gs[row,col])\n",
    "        ax.plot(x,y)"
   ]
  },
  {
   "cell_type": "code",
   "execution_count": null,
   "metadata": {
    "collapsed": true
   },
   "outputs": [],
   "source": [
    "pl.close()\n",
    "\n",
    "# define a new gridspec\n",
    "rows = 12\n",
    "columns = 12\n",
    "gs = GridSpec(nrows=rows, \n",
    "              ncols=columns)\n",
    "\n",
    "# create the figure\n",
    "fig = pl.figure('My GridSpec Example #2')\n",
    "\n",
    "\n",
    "# display empty axes to show positions of gridspec\n",
    "for r in range(rows):\n",
    "    for c in range(columns):\n",
    "        ax = fig.add_subplot(gs[r,c], facecolor='gray')\n",
    "        ax.patch.set_alpha(.2)\n",
    "        ax.set_xticks([])\n",
    "        ax.set_yticks([])\n",
    "\n",
    "\n",
    "# create some axes using ranges of the gridspec\n",
    "ax1 = fig.add_subplot(gs[0:12,0:3])\n",
    "ax1.plot(x, y, color='pink', linestyle='--')\n",
    "\n",
    "ax2 = fig.add_subplot(gs[0:6,3:7])\n",
    "ax2.plot(x, y, color='brown')\n",
    "\n",
    "ax2 = fig.add_subplot(gs[8:,5:])\n",
    "ax2.plot(x, y, color='green')"
   ]
  },
  {
   "cell_type": "code",
   "execution_count": null,
   "metadata": {
    "collapsed": true
   },
   "outputs": [],
   "source": [
    "pl.close('all')"
   ]
  },
  {
   "cell_type": "markdown",
   "metadata": {},
   "source": [
    "---\n",
    "\n",
    "Now that we've learned a bit about how to construct layouts, let's return to the discussion of `matplotlib` objects.\n",
    "\n",
    "We have already seen that we can get handles to `Figure` objects and `Axes` objects. It turns out that every single thing you display with `matplotlib` has an associated object handle."
   ]
  },
  {
   "cell_type": "code",
   "execution_count": null,
   "metadata": {
    "collapsed": true
   },
   "outputs": [],
   "source": [
    "ax = pl.subplot(111)\n",
    "\n",
    "line, = ax.plot(x, y)"
   ]
  },
  {
   "cell_type": "code",
   "execution_count": null,
   "metadata": {
    "collapsed": true
   },
   "outputs": [],
   "source": [
    "print( line.get_ydata() )"
   ]
  },
  {
   "cell_type": "code",
   "execution_count": null,
   "metadata": {
    "collapsed": true
   },
   "outputs": [],
   "source": [
    "ax.clear()\n",
    "\n",
    "ys = np.array([y+2*i for i in range(20)]).T # to plot multiple lines, first axis corresponds to sequential x values\n",
    "\n",
    "lines = ax.plot(x, ys) # read out the line handles into a variable"
   ]
  },
  {
   "cell_type": "markdown",
   "metadata": {},
   "source": [
    "If you hold the line handles in a variable, you can edit the data at any time."
   ]
  },
  {
   "cell_type": "code",
   "execution_count": null,
   "metadata": {
    "collapsed": true
   },
   "outputs": [],
   "source": [
    "for idx,line in enumerate(lines):\n",
    "    line.set_linewidth(idx)"
   ]
  },
  {
   "cell_type": "code",
   "execution_count": null,
   "metadata": {
    "collapsed": true
   },
   "outputs": [],
   "source": [
    "for idx,line in enumerate(lines):\n",
    "    if idx%2 == 0:\n",
    "        line.set_xdata(x+.5)"
   ]
  },
  {
   "cell_type": "code",
   "execution_count": null,
   "metadata": {
    "collapsed": true
   },
   "outputs": [],
   "source": [
    "for line in lines:\n",
    "    line.set_marker('x')\n",
    "    line.set_markersize(25)"
   ]
  },
  {
   "cell_type": "markdown",
   "metadata": {},
   "source": [
    "In fact, you can grab and edit any visible component of a plot:"
   ]
  },
  {
   "cell_type": "code",
   "execution_count": null,
   "metadata": {
    "collapsed": true
   },
   "outputs": [],
   "source": [
    "ax.spines['right'].set_visible(False)\n",
    "ax.spines['bottom'].set_linewidth(5)\n",
    "ax.spines['left'].set_color('pink')\n",
    "ax.spines['top'].set_linestyle('--')"
   ]
  },
  {
   "cell_type": "code",
   "execution_count": null,
   "metadata": {
    "collapsed": true
   },
   "outputs": [],
   "source": [
    "for lab in ax.get_xticklabels():\n",
    "    lab.set_color(np.random.random(size=4))\n",
    "    lab.set_fontsize(np.random.randint(10,30))"
   ]
  },
  {
   "cell_type": "code",
   "execution_count": null,
   "metadata": {
    "collapsed": true
   },
   "outputs": [],
   "source": [
    "pl.close('all')"
   ]
  },
  {
   "cell_type": "markdown",
   "metadata": {},
   "source": [
    "At this point, you should have an understanding of how `matplotlib` represents plots and data.\n",
    "\n",
    "---\n",
    "\n",
    "There is another important topic we have not yet covered. What if you want to place text, other than axis labels and titles, onto your plots?\n",
    "\n",
    "There are 3 basic ways to accomplish this, depending on your specific needs.\n",
    "\n",
    "The first, and simplest, is to use `Axes.text`:"
   ]
  },
  {
   "cell_type": "code",
   "execution_count": null,
   "metadata": {
    "collapsed": true
   },
   "outputs": [],
   "source": [
    "fig,ax = pl.subplots()\n",
    "\n",
    "ax.plot(x, y, color='c')\n",
    "\n",
    "ax.text(0.5, 0.75, 'hello there') # x-coord, y-coord, text"
   ]
  },
  {
   "cell_type": "code",
   "execution_count": null,
   "metadata": {
    "collapsed": true
   },
   "outputs": [],
   "source": [
    "ax.text(7, 0.2, 'hello again',\n",
    "        horizontalalignment='center',\n",
    "        rotation=45,\n",
    "        fontsize='x-large',\n",
    "        color='red')"
   ]
  },
  {
   "cell_type": "markdown",
   "metadata": {},
   "source": [
    "Sometimes, you might want to place some text with the goal of annotating a particular piece of your data.\n",
    "\n",
    "In that case, `Axes.annotate` is very useful:"
   ]
  },
  {
   "cell_type": "code",
   "execution_count": null,
   "metadata": {
    "collapsed": true
   },
   "outputs": [],
   "source": [
    "ax.clear()\n",
    "\n",
    "ax.plot(x, y, color='gray')"
   ]
  },
  {
   "cell_type": "code",
   "execution_count": null,
   "metadata": {
    "collapsed": true
   },
   "outputs": [],
   "source": [
    "\n",
    "point_of_interest = 32\n",
    "\n",
    "xval = x[point_of_interest]\n",
    "yval = y[point_of_interest]\n",
    "\n",
    "ax.annotate('Point of Interest', \n",
    "            xy=(xval, yval), \n",
    "            xytext=(xval+.5, yval+1), \n",
    "            arrowprops={'width':3})"
   ]
  },
  {
   "cell_type": "markdown",
   "metadata": {},
   "source": [
    "*Note for aficionados: on the topic of axes vs figure coorindate systems, `matplotlib` offers <a href=\"http://matplotlib.org/users/transforms_tutorial.html\">an excellent suite of functions</a> for coordinate transformations.*\n",
    "\n",
    "`matplotlib` also offers the ability to include mathematical expressions using LaTeX conventions:"
   ]
  },
  {
   "cell_type": "code",
   "execution_count": null,
   "metadata": {
    "collapsed": true
   },
   "outputs": [],
   "source": [
    "ax.clear()\n",
    "fig.text(.5, .5, \n",
    "         r'$ e^x = 1 + x + \\frac{x^2}{2!} + \\frac{x^3}{3!} \\ldots = \\sum_{n=0}^{\\infty}\\frac{x^n}{n!} $',\n",
    "        fontsize='large',\n",
    "        ha='center')"
   ]
  },
  {
   "cell_type": "code",
   "execution_count": null,
   "metadata": {
    "collapsed": true
   },
   "outputs": [],
   "source": [
    "pl.close('all')"
   ]
  },
  {
   "cell_type": "markdown",
   "metadata": {},
   "source": [
    "---\n",
    "\n",
    "### Patches\n",
    "\n",
    "All of the plots you have seen, including the lines, dots, bars, axes, words, etc. are made of simpler building blocks: shapes and colours.\n",
    "\n",
    "`matplotlib` gives you access to all of these shapes."
   ]
  },
  {
   "cell_type": "code",
   "execution_count": null,
   "metadata": {
    "collapsed": true
   },
   "outputs": [],
   "source": [
    "circle1 = pl.Circle(xy=[-5,5], radius=3, color='turquoise')\n",
    "circle2 = pl.Circle(xy=[-5,5], radius=1, color='k')\n",
    "circle3 = pl.Circle(xy=[5,5], radius=3, color='turquoise')\n",
    "circle4 = pl.Circle(xy=[5,5], radius=1, color='k')\n",
    "\n",
    "arrow = pl.Arrow(x=0, y=3, dx=0, dy=-2, color='chocolate', linewidth=15)\n",
    "\n",
    "rects1 = [pl.Rectangle(xy=[i,-1.5], width=1, height=1, facecolor='lightyellow', edgecolor='k') for i in np.arange(-6,6)]\n",
    "rects2 = [pl.Rectangle(xy=[i,-3.5], width=1, height=1, facecolor='lightyellow', edgecolor='k') for i in np.arange(-6,6)]\n",
    "\n",
    "ax = pl.subplot(111)\n",
    "\n",
    "ax.add_patch(circle1)\n",
    "ax.add_patch(circle2)\n",
    "ax.add_patch(circle3)\n",
    "ax.add_patch(circle4)\n",
    "\n",
    "ax.add_patch(arrow)\n",
    "\n",
    "for rect in rects1 + rects2:\n",
    "    ax.add_patch(rect)\n",
    "\n",
    "ax.axis('equal')"
   ]
  },
  {
   "cell_type": "markdown",
   "metadata": {},
   "source": [
    "Since a plot is just composed of patches like these, we can get handles to those patches."
   ]
  },
  {
   "cell_type": "code",
   "execution_count": 3,
   "metadata": {
    "collapsed": true
   },
   "outputs": [],
   "source": [
    "pl.close('all')\n",
    "fig,ax = pl.subplots()\n",
    "\n",
    "normal = np.random.normal(size=10000)\n",
    "counts,bins,patches = ax.hist(normal, bins=60)"
   ]
  },
  {
   "cell_type": "code",
   "execution_count": 4,
   "metadata": {
    "collapsed": true
   },
   "outputs": [],
   "source": [
    "for patch in patches:\n",
    "    patch.set_color(np.random.random(3))"
   ]
  },
  {
   "cell_type": "code",
   "execution_count": 5,
   "metadata": {},
   "outputs": [
    {
     "data": {
      "text/plain": [
       "(0, 1000)"
      ]
     },
     "execution_count": 5,
     "metadata": {},
     "output_type": "execute_result"
    }
   ],
   "source": [
    "for patch in patches[::2]:\n",
    "    x,y = patch.get_xy()\n",
    "    h = patch.get_height()\n",
    "    patch.set_xy([x,1000])\n",
    "    patch.set_height(-h)\n",
    "    \n",
    "ax.set_ylim(0,1000)"
   ]
  },
  {
   "cell_type": "markdown",
   "metadata": {},
   "source": [
    "---\n",
    "\n",
    "At this point, I want to briefly touch on a few other advanced features of `matplotlib`.\n",
    "\n",
    "### 3D plotting"
   ]
  },
  {
   "cell_type": "code",
   "execution_count": 6,
   "metadata": {},
   "outputs": [
    {
     "data": {
      "text/plain": [
       "<mpl_toolkits.mplot3d.art3d.Poly3DCollection at 0x1c2663d400>"
      ]
     },
     "execution_count": 6,
     "metadata": {},
     "output_type": "execute_result"
    }
   ],
   "source": [
    "# taken directly from: http://matplotlib.org/mpl_toolkits/mplot3d/tutorial.html#contour-plots\n",
    "\n",
    "from mpl_toolkits.mplot3d import Axes3D\n",
    "\n",
    "n_radii = 8\n",
    "n_angles = 36\n",
    "\n",
    "# Make radii and angles spaces (radius r=0 omitted to eliminate duplication).\n",
    "radii = np.linspace(0.125, 1.0, n_radii)\n",
    "angles = np.linspace(0, 2*np.pi, n_angles, endpoint=False)\n",
    "\n",
    "# Repeat all angles for each radius.\n",
    "angles = np.repeat(angles[..., np.newaxis], n_radii, axis=1)\n",
    "\n",
    "# Convert polar (radii, angles) coords to cartesian (x, y) coords.\n",
    "# (0, 0) is manually added at this stage,  so there will be no duplicate\n",
    "# points in the (x, y) plane.\n",
    "x = np.append(0, (radii*np.cos(angles)).flatten())\n",
    "y = np.append(0, (radii*np.sin(angles)).flatten())\n",
    "\n",
    "# Compute z to make the pringle surface.\n",
    "z = np.sin(-x*y)\n",
    "\n",
    "fig = pl.figure()\n",
    "ax = fig.gca(projection='3d')\n",
    "\n",
    "ax.plot_trisurf(x, y, z, linewidth=0.2, antialiased=True)"
   ]
  },
  {
   "cell_type": "markdown",
   "metadata": {},
   "source": [
    "### Animations"
   ]
  },
  {
   "cell_type": "code",
   "execution_count": 7,
   "metadata": {
    "collapsed": true
   },
   "outputs": [],
   "source": [
    "pl.close('all')\n",
    "\n",
    "fig, axs = pl.subplots(1, 2, figsize=(10,5))\n",
    "\n",
    "# draw a circle\n",
    "circ = pl.Circle([0,0], 1, color='darkslategrey', linewidth=4)\n",
    "axs[0].add_patch(circ)\n",
    "# draw lines over the circle\n",
    "axs[0].plot([-1,1], [0,0], color='w', lw=.5)\n",
    "axs[0].plot([0,0], [-1,1], color='w', lw=.5)\n",
    "circle_line, = axs[0].plot([0,1], [0,0], color='k')\n",
    "# scale the circle axis\n",
    "axs[0].axis([-1.2, 1.2, -1.2, 1.2])\n",
    "axs[0].axis('equal')\n",
    "axs[0].axis('off')\n",
    "\n",
    "# create one period of a sine wave\n",
    "x = np.arange(0, 2*np.pi, 0.05)\n",
    "y = np.sin(x)\n",
    "# plot the sine wave\n",
    "axs[1].plot(x, y, color='maroon', linewidth=5)\n",
    "# plot a dot and line to follow the sine wave\n",
    "dot, = axs[1].plot(x[0], y[0], marker='o', markersize=10, color='orange')\n",
    "sine_line, = axs[1].plot([0,0], [-1,1], color='gray', linestyle='--')\n",
    "# turn off x axis ticks\n",
    "axs[1].set_xticks([])\n",
    "\n",
    "# run an animation\n",
    "idx = 0\n",
    "n_iters = 0\n",
    "while n_iters<5:\n",
    "    xval = x[idx]\n",
    "    yval = y[idx]\n",
    "    \n",
    "    # update circle display\n",
    "    x_component = np.cos(xval)\n",
    "    y_component = np.sin(xval)\n",
    "    circle_line.set_xdata([0, x_component])\n",
    "    circle_line.set_ydata([0, y_component])\n",
    "    \n",
    "    # update sine wave plot\n",
    "    sine_line.set_xdata([xval, xval])\n",
    "    dot.set_xdata(xval)\n",
    "    dot.set_ydata(yval)\n",
    "    \n",
    "    pl.pause(0.001)\n",
    "    \n",
    "    idx += 1\n",
    "    if idx == len(x):\n",
    "        idx = 0\n",
    "        n_iters += 1"
   ]
  },
  {
   "cell_type": "markdown",
   "metadata": {},
   "source": [
    "### Interactivity"
   ]
  },
  {
   "cell_type": "code",
   "execution_count": 9,
   "metadata": {},
   "outputs": [
    {
     "data": {
      "text/plain": [
       "0"
      ]
     },
     "execution_count": 9,
     "metadata": {},
     "output_type": "execute_result"
    }
   ],
   "source": [
    "fig = pl.figure('Bubbles', figsize=[6,6])\n",
    "ax = fig.add_axes([0,0,1,1])\n",
    "\n",
    "def make_circle(event):\n",
    "    x,y,r = np.random.random(size=3)\n",
    "    color = np.random.random(size=3)\n",
    "    circ = pl.Circle((x,y), r/20, color=color)\n",
    "    ax.add_patch(circ)\n",
    "    fig.canvas.draw()\n",
    "\n",
    "ax_button = fig.add_axes([0.4,.45,.2,.1])\n",
    "button = pl.Button(ax_button, label='Make A Bubble')\n",
    "button.on_clicked(make_circle)"
   ]
  },
  {
   "cell_type": "markdown",
   "metadata": {},
   "source": [
    "### Backends\n",
    "\n",
    "I will not cover this topic extensively, but I do want to mention it for the sake of demonstrating one useful feature.\n",
    "\n",
    "`matplotlib` draws it figures using \"backends\" - code specific to drawing on different operating systems and using different methods.\n",
    "\n",
    "iPython (which runs by default in Jupyter notebooks) offers a simple syntax for specifying your matplotlib notebook. And, `matplotlib` has begun to build a comprehensive backend specifically for notebooks like this one."
   ]
  },
  {
   "cell_type": "code",
   "execution_count": null,
   "metadata": {
    "collapsed": true
   },
   "outputs": [],
   "source": [
    "%matplotlib notebook\n",
    "\n",
    "pl.plot(x, y)"
   ]
  },
  {
   "cell_type": "code",
   "execution_count": null,
   "metadata": {
    "collapsed": true
   },
   "outputs": [],
   "source": []
  }
 ],
 "metadata": {
  "anaconda-cloud": {},
  "kernelspec": {
   "display_name": "Python 3",
   "language": "python",
   "name": "python3"
  },
  "language_info": {
   "codemirror_mode": {
    "name": "ipython",
    "version": 3
   },
   "file_extension": ".py",
   "mimetype": "text/x-python",
   "name": "python",
   "nbconvert_exporter": "python",
   "pygments_lexer": "ipython3",
   "version": "3.6.2"
  }
 },
 "nbformat": 4,
 "nbformat_minor": 1
}
