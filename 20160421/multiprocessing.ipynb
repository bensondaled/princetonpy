{
 "cells": [
  {
   "cell_type": "code",
   "execution_count": 18,
   "metadata": {
    "collapsed": true
   },
   "outputs": [],
   "source": [
    "import multiprocessing as mp\n",
    "import queue, time\n",
    "\n",
    "class TimeKeeper(mp.Process):\n",
    "    \n",
    "    def __init__(self, resolution=0.01):\n",
    "        super(TimeKeeper, self).__init__()\n",
    "        self.resolution = resolution\n",
    "        self.queue = mp.Queue()\n",
    "        self.daemon = True\n",
    "        \n",
    "    def run(self):\n",
    "        f = open('timekeeper_output.txt','w')\n",
    "        t0 = time.time()\n",
    "        \n",
    "        cont = True\n",
    "        while cont:\n",
    "            \n",
    "            try:\n",
    "                external_data = self.queue.get(block=False)\n",
    "            except queue.Empty:\n",
    "                external_data = None\n",
    "            \n",
    "            if external_data:\n",
    "                f.write('{}\\n'.format(external_data))\n",
    "            if time.time()-t0 >= self.resolution:\n",
    "                f.write('{:0.3f}\\n'.format(time.time()))\n",
    "                t0 = time.time()\n",
    "            \n",
    "            if external_data == 'stop':\n",
    "                break\n",
    "            \n",
    "        f.close()"
   ]
  },
  {
   "cell_type": "code",
   "execution_count": 19,
   "metadata": {
    "collapsed": true
   },
   "outputs": [],
   "source": [
    "import time, random\n",
    "\n",
    "tk = TimeKeeper()\n",
    "tk.start()\n",
    "\n",
    "t0 = time.time()\n",
    "while time.time()-t0 < 5:\n",
    "    if (time.time()-t0)%1 == 0:\n",
    "        tk.queue.put(random.choice('abcdefg'))\n",
    "tk.queue.put('stop')"
   ]
  },
  {
   "cell_type": "code",
   "execution_count": null,
   "metadata": {
    "collapsed": false
   },
   "outputs": [],
   "source": []
  }
 ],
 "metadata": {
  "kernelspec": {
   "display_name": "Python 3",
   "language": "python",
   "name": "python3"
  },
  "language_info": {
   "codemirror_mode": {
    "name": "ipython",
    "version": 3
   },
   "file_extension": ".py",
   "mimetype": "text/x-python",
   "name": "python",
   "nbconvert_exporter": "python",
   "pygments_lexer": "ipython3",
   "version": "3.5.1"
  }
 },
 "nbformat": 4,
 "nbformat_minor": 0
}
