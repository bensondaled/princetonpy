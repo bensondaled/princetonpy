{
 "cells": [
  {
   "cell_type": "markdown",
   "metadata": {},
   "source": [
    "# What are <i>\\*args</i> and <i>**kwargs</i>, and how do I use them?"
   ]
  },
  {
   "cell_type": "markdown",
   "metadata": {},
   "source": [
    "## The asterisk (\\*)\n",
    "\n",
    "Before understanding \\*args and \\*\\*kwargs, you must first understand the asterisk (\\*) in Python.\n",
    "\n",
    "Suppose there's some complicated function called <i>do_something</i> that takes as input 5 integers. \n",
    "\n",
    "You would normally call it like this:"
   ]
  },
  {
   "cell_type": "code",
   "execution_count": null,
   "metadata": {
    "collapsed": true
   },
   "outputs": [],
   "source": [
    "a = 7\n",
    "b = 4\n",
    "c = 11\n",
    "d = 42\n",
    "e = 10\n",
    "do_something(a, b, c, d, e)"
   ]
  },
  {
   "cell_type": "markdown",
   "metadata": {},
   "source": [
    "But Python offers an alternative way to do this, using the \\* :"
   ]
  },
  {
   "cell_type": "code",
   "execution_count": null,
   "metadata": {
    "collapsed": true
   },
   "outputs": [],
   "source": [
    "my_parameters = [7, 4, 11, 42, 10]\n",
    "do_something(*my_parameters)"
   ]
  },
  {
   "cell_type": "markdown",
   "metadata": {},
   "source": [
    "The asterisk (\\*) here is \"unpacking\" the my_parameters list, so that each item in the list is treated individually when it's handed to the function.\n",
    "\n",
    "It may not be so obvious why that's useful, but if you can accept that it often is, then you will have an easier time understanding the coming section.\n",
    "\n",
    "Keep the asterisk in mind, because it is the key to understanding \\*args, but note that it's a feature on its own, in the absence of \\*args."
   ]
  },
  {
   "cell_type": "markdown",
   "metadata": {},
   "source": [
    "## Understanding *args\n",
    "\n",
    "Suppose you have a function:"
   ]
  },
  {
   "cell_type": "code",
   "execution_count": 2,
   "metadata": {
    "collapsed": true
   },
   "outputs": [],
   "source": [
    "def add(a, b):\n",
    "    return a+b"
   ]
  },
  {
   "cell_type": "markdown",
   "metadata": {},
   "source": [
    "You could use this function to add two numbers:"
   ]
  },
  {
   "cell_type": "code",
   "execution_count": 9,
   "metadata": {
    "collapsed": false
   },
   "outputs": [
    {
     "data": {
      "text/plain": [
       "35"
      ]
     },
     "execution_count": 9,
     "metadata": {},
     "output_type": "execute_result"
    }
   ],
   "source": [
    "first_number = 32\n",
    "second_number = 3\n",
    "\n",
    "add(first_number, second_number)"
   ]
  },
  {
   "cell_type": "markdown",
   "metadata": {},
   "source": [
    "What if, in different parts of your program, you wanted to add more than 2 numbers together?\n",
    "\n",
    "You could, tediously, make many functions:"
   ]
  },
  {
   "cell_type": "code",
   "execution_count": 10,
   "metadata": {
    "collapsed": true
   },
   "outputs": [],
   "source": [
    "def add_2_numbers(a, b):\n",
    "    return a+b\n",
    "\n",
    "def add_3_numbers(a, b, c):\n",
    "    return a+b+c\n",
    "\n",
    "def add_4_numbers(a, b, c, d):\n",
    "    return a+b+c+d"
   ]
  },
  {
   "cell_type": "markdown",
   "metadata": {},
   "source": [
    "But there is a better way to do this. Wouldn't it be convenient if we could just pass any number of values to the function, and it would know how to handle them?\n",
    "\n",
    "You could imagine multiple ways of solving that, but here is how Python does it:\n",
    "\n",
    "If you want to pass an arbitrary number of values to your function, define the function so that it accepts just 1 variable: a list/tuple of values."
   ]
  },
  {
   "cell_type": "code",
   "execution_count": 23,
   "metadata": {
    "collapsed": false
   },
   "outputs": [],
   "source": [
    "def add(a_list_of_values):\n",
    "    result = 0\n",
    "    for value in a_list_of_values:\n",
    "        result += value\n",
    "    return result"
   ]
  },
  {
   "cell_type": "markdown",
   "metadata": {},
   "source": [
    "Now we we-wrote the function to accept a list of values. It uses a for loop to add every value in the list. Let's try to use it:"
   ]
  },
  {
   "cell_type": "code",
   "execution_count": 18,
   "metadata": {
    "collapsed": false
   },
   "outputs": [
    {
     "data": {
      "text/plain": [
       "17"
      ]
     },
     "execution_count": 18,
     "metadata": {},
     "output_type": "execute_result"
    }
   ],
   "source": [
    "my_list = [3, 4, 10]\n",
    "add(my_list)"
   ]
  },
  {
   "cell_type": "markdown",
   "metadata": {},
   "source": [
    "But that didn't really give us what we wanted, since now we have to package our values in a list. We wanted to supply them individually, like add(a, b, c, d) ...\n",
    "\n",
    "That's where the asterisk (\\*) comes back into the picture.\n",
    "\n",
    "Recall from above that if you have a list, and you want to supply a function with the items of the list separated from one another, you use the \\*.\n",
    "\n",
    "But Python offers the opposite ability too. Specifically: what if, when calling a function, you want to supply a bunch of individual variables, even though the function's logic (like our for loop) operates on a list?\n",
    "\n",
    "The answer is: use the asterisk when defining the function:"
   ]
  },
  {
   "cell_type": "code",
   "execution_count": 25,
   "metadata": {
    "collapsed": true
   },
   "outputs": [],
   "source": [
    "def add(*a_list_of_values):\n",
    "    result = 0\n",
    "    for value in a_list_of_values:\n",
    "        result += value\n",
    "    return result"
   ]
  },
  {
   "cell_type": "markdown",
   "metadata": {},
   "source": [
    "This is identical to the function we made above, except now a_list_of_values has a \\* in front of it.\n",
    "\n",
    "But we know that putting a \\* in front of a list unpacks it. So...\n",
    "\n",
    "This means that the function accepts *an unpacked list*, i.e. it accepts a bunch of values!\n",
    "\n",
    "But the key benefit is that once the function is called, all these values show up in our one variable, a list called a_list_of_values. And that list can be as short or long as we want, because we defined it simply by telling Python to grab whatever values are given to the function and throw them into this list.\n",
    "\n",
    "Now, we can call the function as we originally wanted to:"
   ]
  },
  {
   "cell_type": "code",
   "execution_count": 26,
   "metadata": {
    "collapsed": false
   },
   "outputs": [
    {
     "data": {
      "text/plain": [
       "17"
      ]
     },
     "execution_count": 26,
     "metadata": {},
     "output_type": "execute_result"
    }
   ],
   "source": [
    "add(3, 4, 10)"
   ]
  },
  {
   "cell_type": "code",
   "execution_count": 27,
   "metadata": {
    "collapsed": false
   },
   "outputs": [
    {
     "data": {
      "text/plain": [
       "81"
      ]
     },
     "execution_count": 27,
     "metadata": {},
     "output_type": "execute_result"
    }
   ],
   "source": [
    "add(3, 5, 7, 11, 42, 3, 9, 1)"
   ]
  },
  {
   "cell_type": "markdown",
   "metadata": {},
   "source": [
    "Commonly, our variable a_list_of_values is called *args*, but that is a convention, and you can call it anything you like."
   ]
  },
  {
   "cell_type": "markdown",
   "metadata": {},
   "source": [
    "\n",
    "## Understanding **kwargs\n",
    "### Coming soon"
   ]
  },
  {
   "cell_type": "markdown",
   "metadata": {
    "collapsed": true
   },
   "source": [
    "Example uses:\n",
    "making parameter dicts\n",
    "getting and popping from args or kwargs\n",
    "handing dictionaries to be unpacked into function calls"
   ]
  },
  {
   "cell_type": "code",
   "execution_count": null,
   "metadata": {
    "collapsed": true
   },
   "outputs": [],
   "source": []
  }
 ],
 "metadata": {
  "kernelspec": {
   "display_name": "Python 3",
   "language": "python",
   "name": "python3"
  },
  "language_info": {
   "codemirror_mode": {
    "name": "ipython",
    "version": 3
   },
   "file_extension": ".py",
   "mimetype": "text/x-python",
   "name": "python",
   "nbconvert_exporter": "python",
   "pygments_lexer": "ipython3",
   "version": "3.5.1"
  }
 },
 "nbformat": 4,
 "nbformat_minor": 0
}
